{
 "cells": [
  {
   "cell_type": "code",
   "execution_count": 1,
   "metadata": {
    "colab": {},
    "colab_type": "code",
    "id": "ZcGWadzEhW9Q"
   },
   "outputs": [],
   "source": [
    "import numpy as np\n",
    "import pandas as pd\n",
    "import math\n",
    "import operator\n",
    "\n",
    "from datetime import datetime"
   ]
  },
  {
   "cell_type": "markdown",
   "metadata": {
    "colab_type": "text",
    "id": "L___pHoJnYYQ"
   },
   "source": [
    "# Loading the data"
   ]
  },
  {
   "cell_type": "markdown",
   "metadata": {
    "colab_type": "text",
    "id": "Kuk0Y_AunptR"
   },
   "source": [
    "For this problem '*Uber Pickups*' dataset was chosen. It represents the data for different New York Uber pickups.\n",
    "Our goal is, by analysing this dataset, to predict the amount of pickups for each borough presented."
   ]
  },
  {
   "cell_type": "code",
   "execution_count": 8,
   "metadata": {
    "colab": {
     "base_uri": "https://localhost:8080/",
     "height": 180
    },
    "colab_type": "code",
    "id": "PhboEoPpjdjn",
    "outputId": "07574509-b85b-4224-edde-b3cba8434b8e"
   },
   "outputs": [],
   "source": [
    "X_data = pd.read_csv('data/trainX.csv')\n",
    "Y_data = pd.read_csv('data/trainY.csv')"
   ]
  },
  {
   "cell_type": "code",
   "execution_count": 9,
   "metadata": {
    "colab": {
     "base_uri": "https://localhost:8080/",
     "height": 204
    },
    "colab_type": "code",
    "id": "NAVLq5w_kQSM",
    "outputId": "be13d47f-477c-4b6d-cdd2-8913139acf81"
   },
   "outputs": [
    {
     "data": {
      "text/html": [
       "<div>\n",
       "<style scoped>\n",
       "    .dataframe tbody tr th:only-of-type {\n",
       "        vertical-align: middle;\n",
       "    }\n",
       "\n",
       "    .dataframe tbody tr th {\n",
       "        vertical-align: top;\n",
       "    }\n",
       "\n",
       "    .dataframe thead th {\n",
       "        text-align: right;\n",
       "    }\n",
       "</style>\n",
       "<table border=\"1\" class=\"dataframe\">\n",
       "  <thead>\n",
       "    <tr style=\"text-align: right;\">\n",
       "      <th></th>\n",
       "      <th>id</th>\n",
       "      <th>pickup_dt</th>\n",
       "      <th>borough</th>\n",
       "      <th>spd</th>\n",
       "      <th>vsb</th>\n",
       "      <th>temp</th>\n",
       "      <th>dewp</th>\n",
       "      <th>slp</th>\n",
       "      <th>pcp01</th>\n",
       "      <th>pcp06</th>\n",
       "      <th>pcp24</th>\n",
       "      <th>sd</th>\n",
       "      <th>hday</th>\n",
       "    </tr>\n",
       "  </thead>\n",
       "  <tbody>\n",
       "    <tr>\n",
       "      <th>0</th>\n",
       "      <td>26112</td>\n",
       "      <td>2015-06-12 16:00:00</td>\n",
       "      <td>NaN</td>\n",
       "      <td>6.0</td>\n",
       "      <td>9.1</td>\n",
       "      <td>82.0</td>\n",
       "      <td>60.0</td>\n",
       "      <td>1014.2</td>\n",
       "      <td>0.0</td>\n",
       "      <td>0.00</td>\n",
       "      <td>0.240000</td>\n",
       "      <td>0.000000</td>\n",
       "      <td>N</td>\n",
       "    </tr>\n",
       "    <tr>\n",
       "      <th>1</th>\n",
       "      <td>26896</td>\n",
       "      <td>2015-06-17 12:00:00</td>\n",
       "      <td>EWR</td>\n",
       "      <td>7.0</td>\n",
       "      <td>10.0</td>\n",
       "      <td>72.0</td>\n",
       "      <td>58.0</td>\n",
       "      <td>1018.9</td>\n",
       "      <td>0.0</td>\n",
       "      <td>0.00</td>\n",
       "      <td>0.270000</td>\n",
       "      <td>0.000000</td>\n",
       "      <td>N</td>\n",
       "    </tr>\n",
       "    <tr>\n",
       "      <th>2</th>\n",
       "      <td>2263</td>\n",
       "      <td>2015-01-15 08:00:00</td>\n",
       "      <td>Queens</td>\n",
       "      <td>3.0</td>\n",
       "      <td>10.0</td>\n",
       "      <td>27.0</td>\n",
       "      <td>17.0</td>\n",
       "      <td>1021.6</td>\n",
       "      <td>0.0</td>\n",
       "      <td>0.00</td>\n",
       "      <td>0.000000</td>\n",
       "      <td>0.000000</td>\n",
       "      <td>N</td>\n",
       "    </tr>\n",
       "    <tr>\n",
       "      <th>3</th>\n",
       "      <td>10453</td>\n",
       "      <td>2015-03-07 15:00:00</td>\n",
       "      <td>Brooklyn</td>\n",
       "      <td>7.0</td>\n",
       "      <td>9.1</td>\n",
       "      <td>24.0</td>\n",
       "      <td>7.0</td>\n",
       "      <td>1024.3</td>\n",
       "      <td>0.0</td>\n",
       "      <td>0.29</td>\n",
       "      <td>0.551667</td>\n",
       "      <td>18.583333</td>\n",
       "      <td>N</td>\n",
       "    </tr>\n",
       "    <tr>\n",
       "      <th>4</th>\n",
       "      <td>19043</td>\n",
       "      <td>2015-04-30 08:00:00</td>\n",
       "      <td>EWR</td>\n",
       "      <td>9.0</td>\n",
       "      <td>10.0</td>\n",
       "      <td>49.0</td>\n",
       "      <td>40.0</td>\n",
       "      <td>1006.7</td>\n",
       "      <td>0.0</td>\n",
       "      <td>0.00</td>\n",
       "      <td>0.050000</td>\n",
       "      <td>0.000000</td>\n",
       "      <td>N</td>\n",
       "    </tr>\n",
       "  </tbody>\n",
       "</table>\n",
       "</div>"
      ],
      "text/plain": [
       "      id            pickup_dt   borough  spd   vsb  temp  dewp     slp  pcp01  \\\n",
       "0  26112  2015-06-12 16:00:00       NaN  6.0   9.1  82.0  60.0  1014.2    0.0   \n",
       "1  26896  2015-06-17 12:00:00       EWR  7.0  10.0  72.0  58.0  1018.9    0.0   \n",
       "2   2263  2015-01-15 08:00:00    Queens  3.0  10.0  27.0  17.0  1021.6    0.0   \n",
       "3  10453  2015-03-07 15:00:00  Brooklyn  7.0   9.1  24.0   7.0  1024.3    0.0   \n",
       "4  19043  2015-04-30 08:00:00       EWR  9.0  10.0  49.0  40.0  1006.7    0.0   \n",
       "\n",
       "   pcp06     pcp24         sd hday  \n",
       "0   0.00  0.240000   0.000000    N  \n",
       "1   0.00  0.270000   0.000000    N  \n",
       "2   0.00  0.000000   0.000000    N  \n",
       "3   0.29  0.551667  18.583333    N  \n",
       "4   0.00  0.050000   0.000000    N  "
      ]
     },
     "execution_count": 9,
     "metadata": {},
     "output_type": "execute_result"
    }
   ],
   "source": [
    "X_data.head()"
   ]
  },
  {
   "cell_type": "markdown",
   "metadata": {
    "colab_type": "text",
    "id": "ta4apuXIkUXd"
   },
   "source": [
    "For a solution using scikit-learn we considered 3 types of classifiers: *RandomForest*, *DecisionTree* and *LogisticRegression*.\n",
    "\n",
    "(See solution using scikit-learn for details)\n",
    "\n",
    "The following results (in points) were achieved by fitting (after applying Grid Search with different parameters on those classifiers (specific solvers were chosen)):\n",
    "\n",
    "*   RandomForest (entropy) - **1246401.3858999142**\n",
    "*   DecisionTree (gini) - **1245676.0787156357**\n",
    "*   LogisticRegression (newton-cg) - **1193406.0331829898**\n",
    "\n",
    "According to these results, the best algorithm to apply on our dataset (between those 3 been tried) is ***RandomForest***.\n",
    "It will be implemented in this work to be then applied."
   ]
  },
  {
   "cell_type": "markdown",
   "metadata": {
    "colab_type": "text",
    "id": "yFWEgXCxnSgb"
   },
   "source": [
    "# Preparing the data"
   ]
  },
  {
   "cell_type": "markdown",
   "metadata": {
    "colab_type": "text",
    "id": "O6Lt0dlAgPYH"
   },
   "source": [
    "First, we don't need a pickup **id**."
   ]
  },
  {
   "cell_type": "code",
   "execution_count": 10,
   "metadata": {
    "colab": {},
    "colab_type": "code",
    "id": "I59QdW_bgU4_"
   },
   "outputs": [],
   "source": [
    "X = pd.DataFrame(X_data, copy=True)\n",
    "del X['id']"
   ]
  },
  {
   "cell_type": "markdown",
   "metadata": {
    "colab_type": "text",
    "id": "G9XR28pNgin6"
   },
   "source": [
    "Second, we'll transform **pickup_dt** feature into *numeric* type (as done in a solution using scikit-learn)."
   ]
  },
  {
   "cell_type": "code",
   "execution_count": 11,
   "metadata": {
    "colab": {},
    "colab_type": "code",
    "id": "VlrszzyLgxpX"
   },
   "outputs": [],
   "source": [
    "X['pickup_dt'] = X['pickup_dt'].apply(\n",
    "    lambda x: datetime.strptime(x,\"%Y-%m-%d %H:%M:%S\").time()\n",
    ").apply(\n",
    "    lambda x: x.second+x.minute*60+x.hour*3600\n",
    ")"
   ]
  },
  {
   "cell_type": "markdown",
   "metadata": {
    "colab_type": "text",
    "id": "Cvil0uG-hHQQ"
   },
   "source": [
    "Third, let's transform **holiday** char typed feature into *binary* typed"
   ]
  },
  {
   "cell_type": "code",
   "execution_count": 12,
   "metadata": {
    "colab": {},
    "colab_type": "code",
    "id": "tdIXMfckhVk0"
   },
   "outputs": [],
   "source": [
    "X['hday'] = X['hday'].apply(lambda x: 0 if x == 'N' else 1)"
   ]
  },
  {
   "cell_type": "code",
   "execution_count": 13,
   "metadata": {
    "colab": {
     "base_uri": "https://localhost:8080/",
     "height": 204
    },
    "colab_type": "code",
    "id": "4Yi_giA2hZq8",
    "outputId": "d4163322-64ab-4b56-95ad-464edab853b1"
   },
   "outputs": [
    {
     "data": {
      "text/html": [
       "<div>\n",
       "<style scoped>\n",
       "    .dataframe tbody tr th:only-of-type {\n",
       "        vertical-align: middle;\n",
       "    }\n",
       "\n",
       "    .dataframe tbody tr th {\n",
       "        vertical-align: top;\n",
       "    }\n",
       "\n",
       "    .dataframe thead th {\n",
       "        text-align: right;\n",
       "    }\n",
       "</style>\n",
       "<table border=\"1\" class=\"dataframe\">\n",
       "  <thead>\n",
       "    <tr style=\"text-align: right;\">\n",
       "      <th></th>\n",
       "      <th>pickup_dt</th>\n",
       "      <th>borough</th>\n",
       "      <th>spd</th>\n",
       "      <th>vsb</th>\n",
       "      <th>temp</th>\n",
       "      <th>dewp</th>\n",
       "      <th>slp</th>\n",
       "      <th>pcp01</th>\n",
       "      <th>pcp06</th>\n",
       "      <th>pcp24</th>\n",
       "      <th>sd</th>\n",
       "      <th>hday</th>\n",
       "    </tr>\n",
       "  </thead>\n",
       "  <tbody>\n",
       "    <tr>\n",
       "      <th>0</th>\n",
       "      <td>57600</td>\n",
       "      <td>NaN</td>\n",
       "      <td>6.0</td>\n",
       "      <td>9.1</td>\n",
       "      <td>82.0</td>\n",
       "      <td>60.0</td>\n",
       "      <td>1014.2</td>\n",
       "      <td>0.0</td>\n",
       "      <td>0.00</td>\n",
       "      <td>0.240000</td>\n",
       "      <td>0.000000</td>\n",
       "      <td>0</td>\n",
       "    </tr>\n",
       "    <tr>\n",
       "      <th>1</th>\n",
       "      <td>43200</td>\n",
       "      <td>EWR</td>\n",
       "      <td>7.0</td>\n",
       "      <td>10.0</td>\n",
       "      <td>72.0</td>\n",
       "      <td>58.0</td>\n",
       "      <td>1018.9</td>\n",
       "      <td>0.0</td>\n",
       "      <td>0.00</td>\n",
       "      <td>0.270000</td>\n",
       "      <td>0.000000</td>\n",
       "      <td>0</td>\n",
       "    </tr>\n",
       "    <tr>\n",
       "      <th>2</th>\n",
       "      <td>28800</td>\n",
       "      <td>Queens</td>\n",
       "      <td>3.0</td>\n",
       "      <td>10.0</td>\n",
       "      <td>27.0</td>\n",
       "      <td>17.0</td>\n",
       "      <td>1021.6</td>\n",
       "      <td>0.0</td>\n",
       "      <td>0.00</td>\n",
       "      <td>0.000000</td>\n",
       "      <td>0.000000</td>\n",
       "      <td>0</td>\n",
       "    </tr>\n",
       "    <tr>\n",
       "      <th>3</th>\n",
       "      <td>54000</td>\n",
       "      <td>Brooklyn</td>\n",
       "      <td>7.0</td>\n",
       "      <td>9.1</td>\n",
       "      <td>24.0</td>\n",
       "      <td>7.0</td>\n",
       "      <td>1024.3</td>\n",
       "      <td>0.0</td>\n",
       "      <td>0.29</td>\n",
       "      <td>0.551667</td>\n",
       "      <td>18.583333</td>\n",
       "      <td>0</td>\n",
       "    </tr>\n",
       "    <tr>\n",
       "      <th>4</th>\n",
       "      <td>28800</td>\n",
       "      <td>EWR</td>\n",
       "      <td>9.0</td>\n",
       "      <td>10.0</td>\n",
       "      <td>49.0</td>\n",
       "      <td>40.0</td>\n",
       "      <td>1006.7</td>\n",
       "      <td>0.0</td>\n",
       "      <td>0.00</td>\n",
       "      <td>0.050000</td>\n",
       "      <td>0.000000</td>\n",
       "      <td>0</td>\n",
       "    </tr>\n",
       "  </tbody>\n",
       "</table>\n",
       "</div>"
      ],
      "text/plain": [
       "   pickup_dt   borough  spd   vsb  temp  dewp     slp  pcp01  pcp06     pcp24  \\\n",
       "0      57600       NaN  6.0   9.1  82.0  60.0  1014.2    0.0   0.00  0.240000   \n",
       "1      43200       EWR  7.0  10.0  72.0  58.0  1018.9    0.0   0.00  0.270000   \n",
       "2      28800    Queens  3.0  10.0  27.0  17.0  1021.6    0.0   0.00  0.000000   \n",
       "3      54000  Brooklyn  7.0   9.1  24.0   7.0  1024.3    0.0   0.29  0.551667   \n",
       "4      28800       EWR  9.0  10.0  49.0  40.0  1006.7    0.0   0.00  0.050000   \n",
       "\n",
       "          sd  hday  \n",
       "0   0.000000     0  \n",
       "1   0.000000     0  \n",
       "2   0.000000     0  \n",
       "3  18.583333     0  \n",
       "4   0.000000     0  "
      ]
     },
     "execution_count": 13,
     "metadata": {},
     "output_type": "execute_result"
    }
   ],
   "source": [
    "X.head()"
   ]
  },
  {
   "cell_type": "markdown",
   "metadata": {
    "colab_type": "text",
    "id": "WtAnYg60ibYx"
   },
   "source": [
    "Now let's normalize the data. We will use numpy's *linalg.norm()* function. It won't be implemented here as it's big enough, and you always can take a look at the source code via [this link](https://github.com/numpy/numpy/blob/v1.15.1/numpy/linalg/linalg.py#L2203-L2440)."
   ]
  },
  {
   "cell_type": "code",
   "execution_count": 14,
   "metadata": {
    "colab": {},
    "colab_type": "code",
    "id": "g8cCRIJlizzC"
   },
   "outputs": [],
   "source": [
    "def normalize(v):\n",
    "  norm = np.linalg.norm(v)\n",
    "  if norm == 0:\n",
    "    return v\n",
    "  return v / norm"
   ]
  },
  {
   "cell_type": "code",
   "execution_count": 15,
   "metadata": {
    "colab": {},
    "colab_type": "code",
    "id": "PechGMftjdIl"
   },
   "outputs": [],
   "source": [
    "for column_name in ['pickup_dt', 'spd', 'vsb', 'temp', 'dewp', \n",
    "                    'slp', 'pcp01', 'pcp06', 'pcp24', 'sd']:\n",
    "  X[column_name] = normalize(X[column_name])"
   ]
  },
  {
   "cell_type": "code",
   "execution_count": 16,
   "metadata": {
    "colab": {
     "base_uri": "https://localhost:8080/",
     "height": 204
    },
    "colab_type": "code",
    "id": "gyM09AMtjqRC",
    "outputId": "32e4638d-bba3-4c34-e7f3-36dbadb25827"
   },
   "outputs": [
    {
     "data": {
      "text/html": [
       "<div>\n",
       "<style scoped>\n",
       "    .dataframe tbody tr th:only-of-type {\n",
       "        vertical-align: middle;\n",
       "    }\n",
       "\n",
       "    .dataframe tbody tr th {\n",
       "        vertical-align: top;\n",
       "    }\n",
       "\n",
       "    .dataframe thead th {\n",
       "        text-align: right;\n",
       "    }\n",
       "</style>\n",
       "<table border=\"1\" class=\"dataframe\">\n",
       "  <thead>\n",
       "    <tr style=\"text-align: right;\">\n",
       "      <th></th>\n",
       "      <th>pickup_dt</th>\n",
       "      <th>borough</th>\n",
       "      <th>spd</th>\n",
       "      <th>vsb</th>\n",
       "      <th>temp</th>\n",
       "      <th>dewp</th>\n",
       "      <th>slp</th>\n",
       "      <th>pcp01</th>\n",
       "      <th>pcp06</th>\n",
       "      <th>pcp24</th>\n",
       "      <th>sd</th>\n",
       "      <th>hday</th>\n",
       "    </tr>\n",
       "  </thead>\n",
       "  <tbody>\n",
       "    <tr>\n",
       "      <th>0</th>\n",
       "      <td>0.007780</td>\n",
       "      <td>NaN</td>\n",
       "      <td>0.005580</td>\n",
       "      <td>0.006513</td>\n",
       "      <td>0.010413</td>\n",
       "      <td>0.010504</td>\n",
       "      <td>0.006530</td>\n",
       "      <td>0.0</td>\n",
       "      <td>0.000000</td>\n",
       "      <td>0.006675</td>\n",
       "      <td>0.000000</td>\n",
       "      <td>0</td>\n",
       "    </tr>\n",
       "    <tr>\n",
       "      <th>1</th>\n",
       "      <td>0.005835</td>\n",
       "      <td>EWR</td>\n",
       "      <td>0.006510</td>\n",
       "      <td>0.007157</td>\n",
       "      <td>0.009143</td>\n",
       "      <td>0.010153</td>\n",
       "      <td>0.006561</td>\n",
       "      <td>0.0</td>\n",
       "      <td>0.000000</td>\n",
       "      <td>0.007509</td>\n",
       "      <td>0.000000</td>\n",
       "      <td>0</td>\n",
       "    </tr>\n",
       "    <tr>\n",
       "      <th>2</th>\n",
       "      <td>0.003890</td>\n",
       "      <td>Queens</td>\n",
       "      <td>0.002790</td>\n",
       "      <td>0.007157</td>\n",
       "      <td>0.003429</td>\n",
       "      <td>0.002976</td>\n",
       "      <td>0.006578</td>\n",
       "      <td>0.0</td>\n",
       "      <td>0.000000</td>\n",
       "      <td>0.000000</td>\n",
       "      <td>0.000000</td>\n",
       "      <td>0</td>\n",
       "    </tr>\n",
       "    <tr>\n",
       "      <th>3</th>\n",
       "      <td>0.007293</td>\n",
       "      <td>Brooklyn</td>\n",
       "      <td>0.006510</td>\n",
       "      <td>0.006513</td>\n",
       "      <td>0.003048</td>\n",
       "      <td>0.001225</td>\n",
       "      <td>0.006595</td>\n",
       "      <td>0.0</td>\n",
       "      <td>0.019599</td>\n",
       "      <td>0.015343</td>\n",
       "      <td>0.023457</td>\n",
       "      <td>0</td>\n",
       "    </tr>\n",
       "    <tr>\n",
       "      <th>4</th>\n",
       "      <td>0.003890</td>\n",
       "      <td>EWR</td>\n",
       "      <td>0.008371</td>\n",
       "      <td>0.007157</td>\n",
       "      <td>0.006222</td>\n",
       "      <td>0.007002</td>\n",
       "      <td>0.006482</td>\n",
       "      <td>0.0</td>\n",
       "      <td>0.000000</td>\n",
       "      <td>0.001391</td>\n",
       "      <td>0.000000</td>\n",
       "      <td>0</td>\n",
       "    </tr>\n",
       "  </tbody>\n",
       "</table>\n",
       "</div>"
      ],
      "text/plain": [
       "   pickup_dt   borough       spd       vsb      temp      dewp       slp  \\\n",
       "0   0.007780       NaN  0.005580  0.006513  0.010413  0.010504  0.006530   \n",
       "1   0.005835       EWR  0.006510  0.007157  0.009143  0.010153  0.006561   \n",
       "2   0.003890    Queens  0.002790  0.007157  0.003429  0.002976  0.006578   \n",
       "3   0.007293  Brooklyn  0.006510  0.006513  0.003048  0.001225  0.006595   \n",
       "4   0.003890       EWR  0.008371  0.007157  0.006222  0.007002  0.006482   \n",
       "\n",
       "   pcp01     pcp06     pcp24        sd  hday  \n",
       "0    0.0  0.000000  0.006675  0.000000     0  \n",
       "1    0.0  0.000000  0.007509  0.000000     0  \n",
       "2    0.0  0.000000  0.000000  0.000000     0  \n",
       "3    0.0  0.019599  0.015343  0.023457     0  \n",
       "4    0.0  0.000000  0.001391  0.000000     0  "
      ]
     },
     "execution_count": 16,
     "metadata": {},
     "output_type": "execute_result"
    }
   ],
   "source": [
    "X.head()"
   ]
  },
  {
   "cell_type": "markdown",
   "metadata": {
    "colab_type": "text",
    "id": "8hfKE5kbkGlw"
   },
   "source": [
    "As it was done in a solution using scikit-learn, let's apply *one-hot encoding* for transforming **borough** feature data:"
   ]
  },
  {
   "cell_type": "code",
   "execution_count": 17,
   "metadata": {
    "colab": {
     "base_uri": "https://localhost:8080/",
     "height": 35
    },
    "colab_type": "code",
    "id": "DZAALUMVkKAX",
    "outputId": "55718367-383f-4874-e29a-17c7104d9caa"
   },
   "outputs": [
    {
     "data": {
      "text/plain": [
       "{'Bronx', 'Brooklyn', 'EWR', 'Manhattan', 'Queens', 'Staten Island', nan}"
      ]
     },
     "execution_count": 17,
     "metadata": {},
     "output_type": "execute_result"
    }
   ],
   "source": [
    "set(X['borough'].values)"
   ]
  },
  {
   "cell_type": "code",
   "execution_count": 18,
   "metadata": {
    "colab": {},
    "colab_type": "code",
    "id": "630r1qeZkO3-"
   },
   "outputs": [],
   "source": [
    "for value in set(X['borough'].values):\n",
    "    new_value = 'borough_{}'.format(value)\n",
    "    X[new_value] = (X['borough'] == value)"
   ]
  },
  {
   "cell_type": "code",
   "execution_count": 19,
   "metadata": {
    "colab": {
     "base_uri": "https://localhost:8080/",
     "height": 204
    },
    "colab_type": "code",
    "id": "cFSrg7X6kRTc",
    "outputId": "538db560-9fe3-4323-95ec-91aa5215aad0"
   },
   "outputs": [
    {
     "data": {
      "text/html": [
       "<div>\n",
       "<style scoped>\n",
       "    .dataframe tbody tr th:only-of-type {\n",
       "        vertical-align: middle;\n",
       "    }\n",
       "\n",
       "    .dataframe tbody tr th {\n",
       "        vertical-align: top;\n",
       "    }\n",
       "\n",
       "    .dataframe thead th {\n",
       "        text-align: right;\n",
       "    }\n",
       "</style>\n",
       "<table border=\"1\" class=\"dataframe\">\n",
       "  <thead>\n",
       "    <tr style=\"text-align: right;\">\n",
       "      <th></th>\n",
       "      <th>pickup_dt</th>\n",
       "      <th>spd</th>\n",
       "      <th>vsb</th>\n",
       "      <th>temp</th>\n",
       "      <th>dewp</th>\n",
       "      <th>slp</th>\n",
       "      <th>pcp01</th>\n",
       "      <th>pcp06</th>\n",
       "      <th>pcp24</th>\n",
       "      <th>sd</th>\n",
       "      <th>hday</th>\n",
       "      <th>borough_EWR</th>\n",
       "      <th>borough_Staten Island</th>\n",
       "      <th>borough_Bronx</th>\n",
       "      <th>borough_Queens</th>\n",
       "      <th>borough_Manhattan</th>\n",
       "      <th>borough_Brooklyn</th>\n",
       "    </tr>\n",
       "  </thead>\n",
       "  <tbody>\n",
       "    <tr>\n",
       "      <th>0</th>\n",
       "      <td>0.007780</td>\n",
       "      <td>0.005580</td>\n",
       "      <td>0.006513</td>\n",
       "      <td>0.010413</td>\n",
       "      <td>0.010504</td>\n",
       "      <td>0.006530</td>\n",
       "      <td>0.0</td>\n",
       "      <td>0.000000</td>\n",
       "      <td>0.006675</td>\n",
       "      <td>0.000000</td>\n",
       "      <td>0</td>\n",
       "      <td>False</td>\n",
       "      <td>False</td>\n",
       "      <td>False</td>\n",
       "      <td>False</td>\n",
       "      <td>False</td>\n",
       "      <td>False</td>\n",
       "    </tr>\n",
       "    <tr>\n",
       "      <th>1</th>\n",
       "      <td>0.005835</td>\n",
       "      <td>0.006510</td>\n",
       "      <td>0.007157</td>\n",
       "      <td>0.009143</td>\n",
       "      <td>0.010153</td>\n",
       "      <td>0.006561</td>\n",
       "      <td>0.0</td>\n",
       "      <td>0.000000</td>\n",
       "      <td>0.007509</td>\n",
       "      <td>0.000000</td>\n",
       "      <td>0</td>\n",
       "      <td>True</td>\n",
       "      <td>False</td>\n",
       "      <td>False</td>\n",
       "      <td>False</td>\n",
       "      <td>False</td>\n",
       "      <td>False</td>\n",
       "    </tr>\n",
       "    <tr>\n",
       "      <th>2</th>\n",
       "      <td>0.003890</td>\n",
       "      <td>0.002790</td>\n",
       "      <td>0.007157</td>\n",
       "      <td>0.003429</td>\n",
       "      <td>0.002976</td>\n",
       "      <td>0.006578</td>\n",
       "      <td>0.0</td>\n",
       "      <td>0.000000</td>\n",
       "      <td>0.000000</td>\n",
       "      <td>0.000000</td>\n",
       "      <td>0</td>\n",
       "      <td>False</td>\n",
       "      <td>False</td>\n",
       "      <td>False</td>\n",
       "      <td>True</td>\n",
       "      <td>False</td>\n",
       "      <td>False</td>\n",
       "    </tr>\n",
       "    <tr>\n",
       "      <th>3</th>\n",
       "      <td>0.007293</td>\n",
       "      <td>0.006510</td>\n",
       "      <td>0.006513</td>\n",
       "      <td>0.003048</td>\n",
       "      <td>0.001225</td>\n",
       "      <td>0.006595</td>\n",
       "      <td>0.0</td>\n",
       "      <td>0.019599</td>\n",
       "      <td>0.015343</td>\n",
       "      <td>0.023457</td>\n",
       "      <td>0</td>\n",
       "      <td>False</td>\n",
       "      <td>False</td>\n",
       "      <td>False</td>\n",
       "      <td>False</td>\n",
       "      <td>False</td>\n",
       "      <td>True</td>\n",
       "    </tr>\n",
       "    <tr>\n",
       "      <th>4</th>\n",
       "      <td>0.003890</td>\n",
       "      <td>0.008371</td>\n",
       "      <td>0.007157</td>\n",
       "      <td>0.006222</td>\n",
       "      <td>0.007002</td>\n",
       "      <td>0.006482</td>\n",
       "      <td>0.0</td>\n",
       "      <td>0.000000</td>\n",
       "      <td>0.001391</td>\n",
       "      <td>0.000000</td>\n",
       "      <td>0</td>\n",
       "      <td>True</td>\n",
       "      <td>False</td>\n",
       "      <td>False</td>\n",
       "      <td>False</td>\n",
       "      <td>False</td>\n",
       "      <td>False</td>\n",
       "    </tr>\n",
       "  </tbody>\n",
       "</table>\n",
       "</div>"
      ],
      "text/plain": [
       "   pickup_dt       spd       vsb      temp      dewp       slp  pcp01  \\\n",
       "0   0.007780  0.005580  0.006513  0.010413  0.010504  0.006530    0.0   \n",
       "1   0.005835  0.006510  0.007157  0.009143  0.010153  0.006561    0.0   \n",
       "2   0.003890  0.002790  0.007157  0.003429  0.002976  0.006578    0.0   \n",
       "3   0.007293  0.006510  0.006513  0.003048  0.001225  0.006595    0.0   \n",
       "4   0.003890  0.008371  0.007157  0.006222  0.007002  0.006482    0.0   \n",
       "\n",
       "      pcp06     pcp24        sd  hday  borough_EWR  borough_Staten Island  \\\n",
       "0  0.000000  0.006675  0.000000     0        False                  False   \n",
       "1  0.000000  0.007509  0.000000     0         True                  False   \n",
       "2  0.000000  0.000000  0.000000     0        False                  False   \n",
       "3  0.019599  0.015343  0.023457     0        False                  False   \n",
       "4  0.000000  0.001391  0.000000     0         True                  False   \n",
       "\n",
       "   borough_Bronx  borough_Queens  borough_Manhattan  borough_Brooklyn  \n",
       "0          False           False              False             False  \n",
       "1          False           False              False             False  \n",
       "2          False            True              False             False  \n",
       "3          False           False              False              True  \n",
       "4          False           False              False             False  "
      ]
     },
     "execution_count": 19,
     "metadata": {},
     "output_type": "execute_result"
    }
   ],
   "source": [
    "del X['borough']\n",
    "del X['borough_nan']\n",
    "X.head()"
   ]
  },
  {
   "cell_type": "markdown",
   "metadata": {
    "colab_type": "text",
    "id": "QPssn8iKkcIZ"
   },
   "source": [
    "Let's prepare the vector of answers: "
   ]
  },
  {
   "cell_type": "code",
   "execution_count": 20,
   "metadata": {
    "colab": {
     "base_uri": "https://localhost:8080/",
     "height": 204
    },
    "colab_type": "code",
    "id": "lvXBO_vzkf4k",
    "outputId": "76cac5a8-05ef-43ee-d7af-6a872fd3c7ec"
   },
   "outputs": [
    {
     "data": {
      "text/html": [
       "<div>\n",
       "<style scoped>\n",
       "    .dataframe tbody tr th:only-of-type {\n",
       "        vertical-align: middle;\n",
       "    }\n",
       "\n",
       "    .dataframe tbody tr th {\n",
       "        vertical-align: top;\n",
       "    }\n",
       "\n",
       "    .dataframe thead th {\n",
       "        text-align: right;\n",
       "    }\n",
       "</style>\n",
       "<table border=\"1\" class=\"dataframe\">\n",
       "  <thead>\n",
       "    <tr style=\"text-align: right;\">\n",
       "      <th></th>\n",
       "      <th>id</th>\n",
       "      <th>pickups</th>\n",
       "    </tr>\n",
       "  </thead>\n",
       "  <tbody>\n",
       "    <tr>\n",
       "      <th>0</th>\n",
       "      <td>26112</td>\n",
       "      <td>2</td>\n",
       "    </tr>\n",
       "    <tr>\n",
       "      <th>1</th>\n",
       "      <td>26896</td>\n",
       "      <td>0</td>\n",
       "    </tr>\n",
       "    <tr>\n",
       "      <th>2</th>\n",
       "      <td>2263</td>\n",
       "      <td>210</td>\n",
       "    </tr>\n",
       "    <tr>\n",
       "      <th>3</th>\n",
       "      <td>10453</td>\n",
       "      <td>543</td>\n",
       "    </tr>\n",
       "    <tr>\n",
       "      <th>4</th>\n",
       "      <td>19043</td>\n",
       "      <td>0</td>\n",
       "    </tr>\n",
       "  </tbody>\n",
       "</table>\n",
       "</div>"
      ],
      "text/plain": [
       "      id  pickups\n",
       "0  26112        2\n",
       "1  26896        0\n",
       "2   2263      210\n",
       "3  10453      543\n",
       "4  19043        0"
      ]
     },
     "execution_count": 20,
     "metadata": {},
     "output_type": "execute_result"
    }
   ],
   "source": [
    "Y_data.head()"
   ]
  },
  {
   "cell_type": "code",
   "execution_count": 21,
   "metadata": {
    "colab": {},
    "colab_type": "code",
    "id": "QtapHFCMkig7"
   },
   "outputs": [],
   "source": [
    "merged = pd.merge(X_data, Y_data, on=['id'])\n",
    "Y = merged['pickups'].values"
   ]
  },
  {
   "cell_type": "markdown",
   "metadata": {
    "colab_type": "text",
    "id": "RZKjburaky2d"
   },
   "source": [
    "Now let's split our training dataset into **N** pieces. We will then train **N** *decision trees* on each subset respectively. This will allow us to create an *ensemble* to improve results and minimize the possibility of overfitting.\n",
    "\n",
    "We'll try to take **N** = 10."
   ]
  },
  {
   "cell_type": "code",
   "execution_count": 22,
   "metadata": {
    "colab": {},
    "colab_type": "code",
    "id": "XkKpnhUeleWC"
   },
   "outputs": [],
   "source": [
    "X_copy = pd.DataFrame(X, copy=True)\n",
    "subsets = []\n",
    "amount = int(len(X_copy) / 10)\n",
    "\n",
    "for x in range(0, 10):\n",
    "    subsets.append(X_copy.sample(n=amount))\n",
    "    X_copy.drop(subsets[x].index, inplace=True)"
   ]
  },
  {
   "cell_type": "markdown",
   "metadata": {
    "colab_type": "text",
    "id": "7lH7wlusyXdl"
   },
   "source": [
    "Now we have **10** random **subsets** formed from the original set. The next step is to implement the classifier. "
   ]
  },
  {
   "cell_type": "markdown",
   "metadata": {
    "colab_type": "text",
    "id": "4eRuFyJ_ylDq"
   },
   "source": [
    "# Implementing Decision Tree (entropy)"
   ]
  },
  {
   "cell_type": "markdown",
   "metadata": {
    "colab_type": "text",
    "id": "4NjnI7La3bjm"
   },
   "source": [
    "*GridSearch* that was used in a solution using scikit-learn showed that *entropy-based* solver gives better results for our problem than *gini-based*. So ***entropy-based*** solver will be used here."
   ]
  },
  {
   "cell_type": "code",
   "execution_count": 23,
   "metadata": {
    "colab": {},
    "colab_type": "code",
    "id": "jO70QxzOGxW4"
   },
   "outputs": [],
   "source": [
    "def entropy(data, attr):\n",
    "    ser = data.groupby(attr).size().to_dict()\n",
    "    entries = len(data)\n",
    "    entropy = 0.0  # default value\n",
    "    for key in ser.keys():\n",
    "        probability = float(ser[key])/entries\n",
    "        entropy -= probability * math.log(probability,2)\n",
    "    return entropy"
   ]
  },
  {
   "cell_type": "code",
   "execution_count": 24,
   "metadata": {
    "colab": {
     "base_uri": "https://localhost:8080/",
     "height": 35
    },
    "colab_type": "code",
    "id": "Zln6cVrGSsWk",
    "outputId": "4372d1ea-9a97-4f40-e439-84ebfe5c6458"
   },
   "outputs": [
    {
     "data": {
      "text/plain": [
       "0.6074703375428505"
      ]
     },
     "execution_count": 24,
     "metadata": {},
     "output_type": "execute_result"
    }
   ],
   "source": [
    "entropy(X, 'borough_Bronx')"
   ]
  },
  {
   "cell_type": "code",
   "execution_count": 25,
   "metadata": {
    "colab": {},
    "colab_type": "code",
    "id": "Nz7E-b-FWV4q"
   },
   "outputs": [],
   "source": [
    "def split(data, colname, value):\n",
    "  return data.loc[data[colname] == value, data.columns.drop(colname)]"
   ]
  },
  {
   "cell_type": "code",
   "execution_count": 1,
   "metadata": {
    "colab": {},
    "colab_type": "code",
    "id": "BxhROiKBbhwn"
   },
   "outputs": [],
   "source": [
    "def choose(data):\n",
    "    minimum_entropy = entropy(data, data.columns[0])\n",
    "    best_attr = -1\n",
    "    \n",
    "    values_map = {col: data.groupby(col).size().to_dict() for col in data.columns}\n",
    "    \n",
    "    entropies = []\n",
    "    \n",
    "    for attr in values_map:\n",
    "        new_entropy = 0.0\n",
    "        for value in values_map[attr]:\n",
    "            new_data = split(X_copy, attr, value)\n",
    "            probability = new_data.shape[0]/float(data.shape[0])\n",
    "            new_entropy += probability * entropy(data, attr)\n",
    "        entropies.append(dict(attr=attr, info_amount=new_entropy))\n",
    "    \n",
    "    print(entropies)\n",
    "    best_attr = min(entropies, key=operator.itemgetter('info_amount'))\n",
    "    print(f'best attribute is now {best_attr}')\n",
    "    return best_attr['attr']"
   ]
  },
  {
   "cell_type": "code",
   "execution_count": 2,
   "metadata": {
    "colab": {},
    "colab_type": "code",
    "id": "sQkNmGQfcb0y"
   },
   "outputs": [
    {
     "ename": "NameError",
     "evalue": "name 'pd' is not defined",
     "output_type": "error",
     "traceback": [
      "\u001b[0;31m---------------------------------------------------------------------------\u001b[0m",
      "\u001b[0;31mNameError\u001b[0m                                 Traceback (most recent call last)",
      "\u001b[0;32m<ipython-input-2-14a7016e45f6>\u001b[0m in \u001b[0;36m<module>\u001b[0;34m\u001b[0m\n\u001b[0;32m----> 1\u001b[0;31m \u001b[0mX_copy\u001b[0m \u001b[0;34m=\u001b[0m \u001b[0mpd\u001b[0m\u001b[0;34m.\u001b[0m\u001b[0mDataFrame\u001b[0m\u001b[0;34m(\u001b[0m\u001b[0mX\u001b[0m\u001b[0;34m,\u001b[0m \u001b[0mcopy\u001b[0m\u001b[0;34m=\u001b[0m\u001b[0;32mTrue\u001b[0m\u001b[0;34m)\u001b[0m\u001b[0;34m\u001b[0m\u001b[0;34m\u001b[0m\u001b[0m\n\u001b[0m",
      "\u001b[0;31mNameError\u001b[0m: name 'pd' is not defined"
     ]
    }
   ],
   "source": [
    "X_copy = pd.DataFrame(X, copy=True)"
   ]
  },
  {
   "cell_type": "code",
   "execution_count": 3,
   "metadata": {
    "colab": {
     "base_uri": "https://localhost:8080/",
     "height": 397
    },
    "colab_type": "code",
    "id": "hiq0RBMYcjsQ",
    "outputId": "d5fa5104-23ff-4135-f494-e1f4d2ac3eb9"
   },
   "outputs": [
    {
     "ename": "NameError",
     "evalue": "name 'X_copy' is not defined",
     "output_type": "error",
     "traceback": [
      "\u001b[0;31m---------------------------------------------------------------------------\u001b[0m",
      "\u001b[0;31mNameError\u001b[0m                                 Traceback (most recent call last)",
      "\u001b[0;32m<ipython-input-3-546abc7ccac0>\u001b[0m in \u001b[0;36m<module>\u001b[0;34m\u001b[0m\n\u001b[0;32m----> 1\u001b[0;31m \u001b[0mchoose\u001b[0m\u001b[0;34m(\u001b[0m\u001b[0mX_copy\u001b[0m\u001b[0;34m)\u001b[0m\u001b[0;34m\u001b[0m\u001b[0;34m\u001b[0m\u001b[0m\n\u001b[0m",
      "\u001b[0;31mNameError\u001b[0m: name 'X_copy' is not defined"
     ]
    }
   ],
   "source": [
    "choose(X_copy)"
   ]
  },
  {
   "cell_type": "code",
   "execution_count": 29,
   "metadata": {
    "colab": {},
    "colab_type": "code",
    "id": "I7mkPrZ7c_gZ"
   },
   "outputs": [],
   "source": [
    "def majority(classset):\n",
    "    count = {}\n",
    "    for attr in classset:\n",
    "        if vote not in count.keys(): count[vote] = 0\n",
    "        count[vote] += 1\n",
    "    sorted_class_count = sorted(count.iteritems(), key=operator.itemgetter(1), reverse=True)\n",
    "    return sorted_class_count[0][0]"
   ]
  },
  {
   "cell_type": "code",
   "execution_count": 4,
   "metadata": {
    "colab": {},
    "colab_type": "code",
    "id": "S3UR6nmyehv3"
   },
   "outputs": [],
   "source": [
    "def tree(data, labels):\n",
    "    if data.shape[0] == 1:\n",
    "        return data.loc[:0]\n",
    "    if data.columns.size == 1:\n",
    "        return majority(data)\n",
    "    best_feat = choose(data)\n",
    "    print(labels)\n",
    "    the_tree = {best_feat:{}}\n",
    "    labels.remove(best_feat)\n",
    "    print(best_feat)\n",
    "    feat_values = data[best_feat]\n",
    "    unique_vals = feat_values.unique()\n",
    "    for value in unique_vals:\n",
    "      print(f'\\n {value} ({len(labels)} feats remaining)')\n",
    "      sublabels = labels.copy()\n",
    "      the_tree[best_feat][value] = tree(split(data, best_feat, value), sublabels)\n",
    "    return the_tree"
   ]
  },
  {
   "cell_type": "code",
   "execution_count": 31,
   "metadata": {
    "colab": {},
    "colab_type": "code",
    "id": "q5z-kZ-1fbQg"
   },
   "outputs": [],
   "source": [
    "X_copy = pd.DataFrame(X, copy=True)"
   ]
  },
  {
   "cell_type": "code",
   "execution_count": 32,
   "metadata": {
    "colab": {
     "base_uri": "https://localhost:8080/",
     "height": 196374
    },
    "colab_type": "code",
    "id": "9G9jj5wUfgwp",
    "outputId": "2197f0cd-8f4f-4bb2-ee0e-7cc00ed7c346"
   },
   "outputs": [
    {
     "name": "stdout",
     "output_type": "stream",
     "text": [
      "[{'attr': 'pickup_dt', 'info_amount': 4.5846038836929575}, {'attr': 'spd', 'info_amount': 4.169446478614493}, {'attr': 'vsb', 'info_amount': 2.194475411872334}, {'attr': 'temp', 'info_amount': 6.679872313241815}, {'attr': 'dewp', 'info_amount': 6.753885221566447}, {'attr': 'slp', 'info_amount': 8.196754732000358}, {'attr': 'pcp01', 'info_amount': 0.8983056198135245}, {'attr': 'pcp06', 'info_amount': 2.0615385457203335}, {'attr': 'pcp24', 'info_amount': 3.602350900945817}, {'attr': 'sd', 'info_amount': 3.0060684116839567}, {'attr': 'hday', 'info_amount': 0.2319152867402135}, {'attr': 'borough_EWR', 'info_amount': 0.6100552544042391}, {'attr': 'borough_Staten Island', 'info_amount': 0.6122001666595638}, {'attr': 'borough_Bronx', 'info_amount': 0.6074703375428505}, {'attr': 'borough_Queens', 'info_amount': 0.6096252715147293}, {'attr': 'borough_Manhattan', 'info_amount': 0.6068222221365697}, {'attr': 'borough_Brooklyn', 'info_amount': 0.6036789783978949}]\n",
      "best attribute is now {'attr': 'hday', 'info_amount': 0.2319152867402135}\n",
      "{'hday', 'temp', 'vsb', 'borough_EWR', 'borough_Staten Island', 'sd', 'borough_Bronx', 'pcp01', 'pcp24', 'borough_Manhattan', 'pickup_dt', 'slp', 'borough_Queens', 'dewp', 'borough_Brooklyn', 'pcp06', 'spd'}\n",
      "hday\n",
      "\n",
      " 0 (16 feats remaining)\n",
      "[{'attr': 'pickup_dt', 'info_amount': 4.76451027749816}, {'attr': 'spd', 'info_amount': 4.339166976122323}, {'attr': 'vsb', 'info_amount': 2.2871117925742226}, {'attr': 'temp', 'info_amount': 6.9301409739408175}, {'attr': 'dewp', 'info_amount': 7.006719825985791}, {'attr': 'slp', 'info_amount': 8.527396463454599}, {'attr': 'pcp01', 'info_amount': 0.952839414711836}, {'attr': 'pcp06', 'info_amount': 2.1165742696007737}, {'attr': 'pcp24', 'info_amount': 3.6611445893717973}, {'attr': 'sd', 'info_amount': 3.1168967201255997}, {'attr': 'borough_EWR', 'info_amount': 0.6332880175138065}, {'attr': 'borough_Staten Island', 'info_amount': 0.6356072266273305}, {'attr': 'borough_Bronx', 'info_amount': 0.6313093140692878}, {'attr': 'borough_Queens', 'info_amount': 0.6344487920915944}, {'attr': 'borough_Manhattan', 'info_amount': 0.6313093140692878}, {'attr': 'borough_Brooklyn', 'info_amount': 0.6274488418278071}]\n",
      "best attribute is now {'attr': 'borough_Brooklyn', 'info_amount': 0.6274488418278071}\n",
      "{'vsb', 'borough_Staten Island', 'borough_Bronx', 'pcp24', 'pickup_dt', 'borough_Queens', 'pcp06', 'pcp01', 'spd', 'temp', 'borough_EWR', 'sd', 'borough_Manhattan', 'slp', 'dewp', 'borough_Brooklyn'}\n",
      "borough_Brooklyn\n",
      "\n",
      " False (15 feats remaining)\n"
     ]
    },
    {
     "ename": "KeyboardInterrupt",
     "evalue": "",
     "output_type": "error",
     "traceback": [
      "\u001b[0;31m---------------------------------------------------------------------------\u001b[0m",
      "\u001b[0;31mKeyboardInterrupt\u001b[0m                         Traceback (most recent call last)",
      "\u001b[0;32m<ipython-input-32-133f65b79870>\u001b[0m in \u001b[0;36m<module>\u001b[0;34m\u001b[0m\n\u001b[0;32m----> 1\u001b[0;31m \u001b[0mtree\u001b[0m\u001b[0;34m(\u001b[0m\u001b[0mX_copy\u001b[0m\u001b[0;34m,\u001b[0m \u001b[0mset\u001b[0m\u001b[0;34m(\u001b[0m\u001b[0mX_copy\u001b[0m\u001b[0;34m)\u001b[0m\u001b[0;34m)\u001b[0m\u001b[0;34m\u001b[0m\u001b[0;34m\u001b[0m\u001b[0m\n\u001b[0m",
      "\u001b[0;32m<ipython-input-30-74b935a88593>\u001b[0m in \u001b[0;36mtree\u001b[0;34m(data, labels)\u001b[0m\n\u001b[1;32m     14\u001b[0m       \u001b[0mprint\u001b[0m\u001b[0;34m(\u001b[0m\u001b[0;34mf'\\n {value} ({len(labels)} feats remaining)'\u001b[0m\u001b[0;34m)\u001b[0m\u001b[0;34m\u001b[0m\u001b[0;34m\u001b[0m\u001b[0m\n\u001b[1;32m     15\u001b[0m       \u001b[0msubLabels\u001b[0m \u001b[0;34m=\u001b[0m \u001b[0mlabels\u001b[0m\u001b[0;34m.\u001b[0m\u001b[0mcopy\u001b[0m\u001b[0;34m(\u001b[0m\u001b[0;34m)\u001b[0m\u001b[0;34m\u001b[0m\u001b[0;34m\u001b[0m\u001b[0m\n\u001b[0;32m---> 16\u001b[0;31m       \u001b[0mtheTree\u001b[0m\u001b[0;34m[\u001b[0m\u001b[0mbestFeat\u001b[0m\u001b[0;34m]\u001b[0m\u001b[0;34m[\u001b[0m\u001b[0mvalue\u001b[0m\u001b[0;34m]\u001b[0m \u001b[0;34m=\u001b[0m \u001b[0mtree\u001b[0m\u001b[0;34m(\u001b[0m\u001b[0msplit\u001b[0m\u001b[0;34m(\u001b[0m\u001b[0mdata\u001b[0m\u001b[0;34m,\u001b[0m \u001b[0mbestFeat\u001b[0m\u001b[0;34m,\u001b[0m \u001b[0mvalue\u001b[0m\u001b[0;34m)\u001b[0m\u001b[0;34m,\u001b[0m \u001b[0msubLabels\u001b[0m\u001b[0;34m)\u001b[0m\u001b[0;34m\u001b[0m\u001b[0;34m\u001b[0m\u001b[0m\n\u001b[0m\u001b[1;32m     17\u001b[0m     \u001b[0;32mreturn\u001b[0m \u001b[0mtheTree\u001b[0m\u001b[0;34m\u001b[0m\u001b[0;34m\u001b[0m\u001b[0m\n",
      "\u001b[0;32m<ipython-input-30-74b935a88593>\u001b[0m in \u001b[0;36mtree\u001b[0;34m(data, labels)\u001b[0m\n\u001b[1;32m     14\u001b[0m       \u001b[0mprint\u001b[0m\u001b[0;34m(\u001b[0m\u001b[0;34mf'\\n {value} ({len(labels)} feats remaining)'\u001b[0m\u001b[0;34m)\u001b[0m\u001b[0;34m\u001b[0m\u001b[0;34m\u001b[0m\u001b[0m\n\u001b[1;32m     15\u001b[0m       \u001b[0msubLabels\u001b[0m \u001b[0;34m=\u001b[0m \u001b[0mlabels\u001b[0m\u001b[0;34m.\u001b[0m\u001b[0mcopy\u001b[0m\u001b[0;34m(\u001b[0m\u001b[0;34m)\u001b[0m\u001b[0;34m\u001b[0m\u001b[0;34m\u001b[0m\u001b[0m\n\u001b[0;32m---> 16\u001b[0;31m       \u001b[0mtheTree\u001b[0m\u001b[0;34m[\u001b[0m\u001b[0mbestFeat\u001b[0m\u001b[0;34m]\u001b[0m\u001b[0;34m[\u001b[0m\u001b[0mvalue\u001b[0m\u001b[0;34m]\u001b[0m \u001b[0;34m=\u001b[0m \u001b[0mtree\u001b[0m\u001b[0;34m(\u001b[0m\u001b[0msplit\u001b[0m\u001b[0;34m(\u001b[0m\u001b[0mdata\u001b[0m\u001b[0;34m,\u001b[0m \u001b[0mbestFeat\u001b[0m\u001b[0;34m,\u001b[0m \u001b[0mvalue\u001b[0m\u001b[0;34m)\u001b[0m\u001b[0;34m,\u001b[0m \u001b[0msubLabels\u001b[0m\u001b[0;34m)\u001b[0m\u001b[0;34m\u001b[0m\u001b[0;34m\u001b[0m\u001b[0m\n\u001b[0m\u001b[1;32m     17\u001b[0m     \u001b[0;32mreturn\u001b[0m \u001b[0mtheTree\u001b[0m\u001b[0;34m\u001b[0m\u001b[0;34m\u001b[0m\u001b[0m\n",
      "\u001b[0;32m<ipython-input-30-74b935a88593>\u001b[0m in \u001b[0;36mtree\u001b[0;34m(data, labels)\u001b[0m\n\u001b[1;32m      4\u001b[0m     \u001b[0;32mif\u001b[0m \u001b[0mdata\u001b[0m\u001b[0;34m.\u001b[0m\u001b[0mcolumns\u001b[0m\u001b[0;34m.\u001b[0m\u001b[0msize\u001b[0m \u001b[0;34m==\u001b[0m \u001b[0;36m1\u001b[0m\u001b[0;34m:\u001b[0m\u001b[0;34m\u001b[0m\u001b[0;34m\u001b[0m\u001b[0m\n\u001b[1;32m      5\u001b[0m         \u001b[0;32mreturn\u001b[0m \u001b[0mmajority\u001b[0m\u001b[0;34m(\u001b[0m\u001b[0mdata\u001b[0m\u001b[0;34m)\u001b[0m\u001b[0;34m\u001b[0m\u001b[0;34m\u001b[0m\u001b[0m\n\u001b[0;32m----> 6\u001b[0;31m     \u001b[0mbestFeat\u001b[0m \u001b[0;34m=\u001b[0m \u001b[0mchoose\u001b[0m\u001b[0;34m(\u001b[0m\u001b[0mdata\u001b[0m\u001b[0;34m)\u001b[0m\u001b[0;34m\u001b[0m\u001b[0;34m\u001b[0m\u001b[0m\n\u001b[0m\u001b[1;32m      7\u001b[0m     \u001b[0mprint\u001b[0m\u001b[0;34m(\u001b[0m\u001b[0mlabels\u001b[0m\u001b[0;34m)\u001b[0m\u001b[0;34m\u001b[0m\u001b[0;34m\u001b[0m\u001b[0m\n\u001b[1;32m      8\u001b[0m     \u001b[0mtheTree\u001b[0m \u001b[0;34m=\u001b[0m \u001b[0;34m{\u001b[0m\u001b[0mbestFeat\u001b[0m\u001b[0;34m:\u001b[0m\u001b[0;34m{\u001b[0m\u001b[0;34m}\u001b[0m\u001b[0;34m}\u001b[0m\u001b[0;34m\u001b[0m\u001b[0;34m\u001b[0m\u001b[0m\n",
      "\u001b[0;32m<ipython-input-26-58024f4f58f7>\u001b[0m in \u001b[0;36mchoose\u001b[0;34m(data)\u001b[0m\n\u001b[1;32m     12\u001b[0m             \u001b[0mnewData\u001b[0m \u001b[0;34m=\u001b[0m \u001b[0msplit\u001b[0m\u001b[0;34m(\u001b[0m\u001b[0mX_copy\u001b[0m\u001b[0;34m,\u001b[0m \u001b[0mattr\u001b[0m\u001b[0;34m,\u001b[0m \u001b[0mvalue\u001b[0m\u001b[0;34m)\u001b[0m\u001b[0;34m\u001b[0m\u001b[0;34m\u001b[0m\u001b[0m\n\u001b[1;32m     13\u001b[0m             \u001b[0mprobability\u001b[0m \u001b[0;34m=\u001b[0m \u001b[0mnewData\u001b[0m\u001b[0;34m.\u001b[0m\u001b[0mshape\u001b[0m\u001b[0;34m[\u001b[0m\u001b[0;36m0\u001b[0m\u001b[0;34m]\u001b[0m\u001b[0;34m/\u001b[0m\u001b[0mfloat\u001b[0m\u001b[0;34m(\u001b[0m\u001b[0mdata\u001b[0m\u001b[0;34m.\u001b[0m\u001b[0mshape\u001b[0m\u001b[0;34m[\u001b[0m\u001b[0;36m0\u001b[0m\u001b[0;34m]\u001b[0m\u001b[0;34m)\u001b[0m\u001b[0;34m\u001b[0m\u001b[0;34m\u001b[0m\u001b[0m\n\u001b[0;32m---> 14\u001b[0;31m             \u001b[0mnewEntropy\u001b[0m \u001b[0;34m+=\u001b[0m \u001b[0mprobability\u001b[0m \u001b[0;34m*\u001b[0m \u001b[0mentropy\u001b[0m\u001b[0;34m(\u001b[0m\u001b[0mdata\u001b[0m\u001b[0;34m,\u001b[0m \u001b[0mattr\u001b[0m\u001b[0;34m)\u001b[0m\u001b[0;34m\u001b[0m\u001b[0;34m\u001b[0m\u001b[0m\n\u001b[0m\u001b[1;32m     15\u001b[0m         \u001b[0mentropies\u001b[0m\u001b[0;34m.\u001b[0m\u001b[0mappend\u001b[0m\u001b[0;34m(\u001b[0m\u001b[0mdict\u001b[0m\u001b[0;34m(\u001b[0m\u001b[0mattr\u001b[0m\u001b[0;34m=\u001b[0m\u001b[0mattr\u001b[0m\u001b[0;34m,\u001b[0m \u001b[0minfo_amount\u001b[0m\u001b[0;34m=\u001b[0m\u001b[0mnewEntropy\u001b[0m\u001b[0;34m)\u001b[0m\u001b[0;34m)\u001b[0m\u001b[0;34m\u001b[0m\u001b[0;34m\u001b[0m\u001b[0m\n\u001b[1;32m     16\u001b[0m \u001b[0;34m\u001b[0m\u001b[0m\n",
      "\u001b[0;32m<ipython-input-23-9e8307100be0>\u001b[0m in \u001b[0;36mentropy\u001b[0;34m(data, attr)\u001b[0m\n\u001b[1;32m      5\u001b[0m     \u001b[0;32mfor\u001b[0m \u001b[0mkey\u001b[0m \u001b[0;32min\u001b[0m \u001b[0mser\u001b[0m\u001b[0;34m.\u001b[0m\u001b[0mkeys\u001b[0m\u001b[0;34m(\u001b[0m\u001b[0;34m)\u001b[0m\u001b[0;34m:\u001b[0m\u001b[0;34m\u001b[0m\u001b[0;34m\u001b[0m\u001b[0m\n\u001b[1;32m      6\u001b[0m         \u001b[0mprobability\u001b[0m \u001b[0;34m=\u001b[0m \u001b[0mfloat\u001b[0m\u001b[0;34m(\u001b[0m\u001b[0mser\u001b[0m\u001b[0;34m[\u001b[0m\u001b[0mkey\u001b[0m\u001b[0;34m]\u001b[0m\u001b[0;34m)\u001b[0m\u001b[0;34m/\u001b[0m\u001b[0mentries\u001b[0m\u001b[0;34m\u001b[0m\u001b[0;34m\u001b[0m\u001b[0m\n\u001b[0;32m----> 7\u001b[0;31m         \u001b[0mentropy\u001b[0m \u001b[0;34m-=\u001b[0m \u001b[0mprobability\u001b[0m \u001b[0;34m*\u001b[0m \u001b[0mmath\u001b[0m\u001b[0;34m.\u001b[0m\u001b[0mlog\u001b[0m\u001b[0;34m(\u001b[0m\u001b[0mprobability\u001b[0m\u001b[0;34m,\u001b[0m\u001b[0;36m2\u001b[0m\u001b[0;34m)\u001b[0m\u001b[0;34m\u001b[0m\u001b[0;34m\u001b[0m\u001b[0m\n\u001b[0m\u001b[1;32m      8\u001b[0m     \u001b[0;32mreturn\u001b[0m \u001b[0mentropy\u001b[0m\u001b[0;34m\u001b[0m\u001b[0;34m\u001b[0m\u001b[0m\n",
      "\u001b[0;31mKeyboardInterrupt\u001b[0m: "
     ]
    }
   ],
   "source": [
    "tree(X_copy, set(X_copy))"
   ]
  },
  {
   "cell_type": "code",
   "execution_count": 34,
   "metadata": {
    "colab": {},
    "colab_type": "code",
    "id": "XN5uJRsjC48x"
   },
   "outputs": [],
   "source": [
    "entropy_map = {}\n",
    "for feat in set(X_copy):\n",
    "  entropy_map[feat] = entropy(X_copy, feat)"
   ]
  },
  {
   "cell_type": "code",
   "execution_count": 35,
   "metadata": {
    "colab": {},
    "colab_type": "code",
    "id": "txLs4nXrEfag"
   },
   "outputs": [
    {
     "data": {
      "text/plain": [
       "{'hday': 0.2319152867402135,\n",
       " 'temp': 6.679872313241805,\n",
       " 'vsb': 2.1944754118723346,\n",
       " 'borough_EWR': 0.6100552544042391,\n",
       " 'borough_Staten Island': 0.6122001666595638,\n",
       " 'sd': 3.006068411683965,\n",
       " 'borough_Bronx': 0.6074703375428505,\n",
       " 'pcp01': 0.8983056198135246,\n",
       " 'pcp24': 3.602350900945828,\n",
       " 'borough_Manhattan': 0.6068222221365697,\n",
       " 'pickup_dt': 4.5846038836929575,\n",
       " 'slp': 8.196754732000342,\n",
       " 'borough_Queens': 0.6096252715147293,\n",
       " 'dewp': 6.753885221566462,\n",
       " 'borough_Brooklyn': 0.6036789783978949,\n",
       " 'pcp06': 2.0615385457203352,\n",
       " 'spd': 4.169446478614493}"
      ]
     },
     "execution_count": 35,
     "metadata": {},
     "output_type": "execute_result"
    }
   ],
   "source": [
    "entropy_map"
   ]
  },
  {
   "cell_type": "code",
   "execution_count": 0,
   "metadata": {
    "colab": {},
    "colab_type": "code",
    "id": "wxHX6HmoEgvf"
   },
   "outputs": [],
   "source": []
  }
 ],
 "metadata": {
  "colab": {
   "collapsed_sections": [],
   "name": "Uber_pickups_random_forest_entropy.ipynb",
   "provenance": [],
   "version": "0.3.2"
  },
  "kernelspec": {
   "display_name": "Python 3",
   "language": "python",
   "name": "python3"
  },
  "language_info": {
   "codemirror_mode": {
    "name": "ipython",
    "version": 3
   },
   "file_extension": ".py",
   "mimetype": "text/x-python",
   "name": "python",
   "nbconvert_exporter": "python",
   "pygments_lexer": "ipython3",
   "version": "3.7.1"
  }
 },
 "nbformat": 4,
 "nbformat_minor": 1
}
