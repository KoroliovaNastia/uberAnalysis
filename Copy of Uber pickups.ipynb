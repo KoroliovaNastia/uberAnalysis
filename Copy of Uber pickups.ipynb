{
 "cells": [
  {
   "cell_type": "code",
   "execution_count": 24,
   "metadata": {
    "colab": {},
    "colab_type": "code",
    "id": "_h6qg5RfhFYy"
   },
   "outputs": [],
   "source": [
    "# Ignore warnings\n",
    "import warnings\n",
    "warnings.filterwarnings('ignore')\n",
    "\n",
    "from datetime import datetime\n",
    "\n",
    "# Handle table-like data and matrices\n",
    "import numpy as np\n",
    "import pandas as pd\n",
    "\n",
    "# Modelling Algorithms\n",
    "from sklearn.tree import DecisionTreeClassifier\n",
    "from sklearn.linear_model import LogisticRegression\n",
    "from sklearn.neighbors import KNeighborsClassifier\n",
    "from sklearn.naive_bayes import GaussianNB\n",
    "from sklearn.svm import SVC, LinearSVC\n",
    "from sklearn.ensemble import RandomForestClassifier , GradientBoostingClassifier\n",
    "from sklearn.model_selection import cross_val_score\n",
    "from sklearn.metrics import make_scorer, accuracy_score, roc_auc_score, mean_squared_error\n",
    "from sklearn.model_selection import GridSearchCV, train_test_split , StratifiedKFold\n",
    "\n",
    "# Modelling Helpers\n",
    "from sklearn.preprocessing import Imputer , Normalizer , scale\n",
    "from sklearn.feature_selection import RFECV\n",
    "\n",
    "# Visualisation\n",
    "import matplotlib as mpl\n",
    "import matplotlib.pyplot as plt\n",
    "import matplotlib.pylab as pylab\n",
    "import seaborn as sns\n",
    "\n",
    "# Configure visualisations\n",
    "%matplotlib inline"
   ]
  },
  {
   "cell_type": "code",
   "execution_count": 3,
   "metadata": {
    "colab": {
     "base_uri": "https://localhost:8080/",
     "height": 127
    },
    "colab_type": "code",
    "executionInfo": {
     "elapsed": 30238,
     "status": "ok",
     "timestamp": 1544599201902,
     "user": {
      "displayName": "Александра Абрамович",
      "photoUrl": "https://lh3.googleusercontent.com/-lhVyaeGXpKQ/AAAAAAAAAAI/AAAAAAAAAmM/bk_opOKnptY/s64/photo.jpg",
      "userId": "06263514683435705506"
     },
     "user_tz": -180
    },
    "id": "Dq9JaDeAvBGE",
    "outputId": "1002059b-3e81-460f-f0e8-9a855d3fdb32"
   },
   "outputs": [
    {
     "name": "stdout",
     "output_type": "stream",
     "text": [
      "Go to this URL in a browser: https://accounts.google.com/o/oauth2/auth?client_id=947318989803-6bn6qk8qdgf4n4g3pfee6491hc0brc4i.apps.googleusercontent.com&redirect_uri=urn%3Aietf%3Awg%3Aoauth%3A2.0%3Aoob&scope=email%20https%3A%2F%2Fwww.googleapis.com%2Fauth%2Fdocs.test%20https%3A%2F%2Fwww.googleapis.com%2Fauth%2Fdrive%20https%3A%2F%2Fwww.googleapis.com%2Fauth%2Fdrive.photos.readonly%20https%3A%2F%2Fwww.googleapis.com%2Fauth%2Fpeopleapi.readonly&response_type=code\n",
      "\n",
      "Enter your authorization code:\n",
      "··········\n",
      "Mounted at /content/drive/\n"
     ]
    }
   ],
   "source": [
    "from google.colab import drive\n",
    "drive.mount('/content/drive/')"
   ]
  },
  {
   "cell_type": "code",
   "execution_count": 3,
   "metadata": {
    "colab": {},
    "colab_type": "code",
    "id": "HBRk1T3_hFZX"
   },
   "outputs": [],
   "source": [
    "X_data = pd.read_csv('data/trainX.csv')\n",
    "Y_data = pd.read_csv('data/trainY.csv')"
   ]
  },
  {
   "cell_type": "code",
   "execution_count": 4,
   "metadata": {
    "colab": {
     "base_uri": "https://localhost:8080/",
     "height": 204
    },
    "colab_type": "code",
    "executionInfo": {
     "elapsed": 2479,
     "status": "ok",
     "timestamp": 1544599214644,
     "user": {
      "displayName": "Александра Абрамович",
      "photoUrl": "https://lh3.googleusercontent.com/-lhVyaeGXpKQ/AAAAAAAAAAI/AAAAAAAAAmM/bk_opOKnptY/s64/photo.jpg",
      "userId": "06263514683435705506"
     },
     "user_tz": -180
    },
    "id": "LhhtRIX7hFZs",
    "outputId": "0a0ca499-59d0-49a7-c9da-e722e9262307"
   },
   "outputs": [
    {
     "data": {
      "text/html": [
       "<div>\n",
       "<style scoped>\n",
       "    .dataframe tbody tr th:only-of-type {\n",
       "        vertical-align: middle;\n",
       "    }\n",
       "\n",
       "    .dataframe tbody tr th {\n",
       "        vertical-align: top;\n",
       "    }\n",
       "\n",
       "    .dataframe thead th {\n",
       "        text-align: right;\n",
       "    }\n",
       "</style>\n",
       "<table border=\"1\" class=\"dataframe\">\n",
       "  <thead>\n",
       "    <tr style=\"text-align: right;\">\n",
       "      <th></th>\n",
       "      <th>id</th>\n",
       "      <th>pickup_dt</th>\n",
       "      <th>borough</th>\n",
       "      <th>spd</th>\n",
       "      <th>vsb</th>\n",
       "      <th>temp</th>\n",
       "      <th>dewp</th>\n",
       "      <th>slp</th>\n",
       "      <th>pcp01</th>\n",
       "      <th>pcp06</th>\n",
       "      <th>pcp24</th>\n",
       "      <th>sd</th>\n",
       "      <th>hday</th>\n",
       "    </tr>\n",
       "  </thead>\n",
       "  <tbody>\n",
       "    <tr>\n",
       "      <th>0</th>\n",
       "      <td>26112</td>\n",
       "      <td>2015-06-12 16:00:00</td>\n",
       "      <td>NaN</td>\n",
       "      <td>6.0</td>\n",
       "      <td>9.1</td>\n",
       "      <td>82.0</td>\n",
       "      <td>60.0</td>\n",
       "      <td>1014.2</td>\n",
       "      <td>0.0</td>\n",
       "      <td>0.00</td>\n",
       "      <td>0.240000</td>\n",
       "      <td>0.000000</td>\n",
       "      <td>N</td>\n",
       "    </tr>\n",
       "    <tr>\n",
       "      <th>1</th>\n",
       "      <td>26896</td>\n",
       "      <td>2015-06-17 12:00:00</td>\n",
       "      <td>EWR</td>\n",
       "      <td>7.0</td>\n",
       "      <td>10.0</td>\n",
       "      <td>72.0</td>\n",
       "      <td>58.0</td>\n",
       "      <td>1018.9</td>\n",
       "      <td>0.0</td>\n",
       "      <td>0.00</td>\n",
       "      <td>0.270000</td>\n",
       "      <td>0.000000</td>\n",
       "      <td>N</td>\n",
       "    </tr>\n",
       "    <tr>\n",
       "      <th>2</th>\n",
       "      <td>2263</td>\n",
       "      <td>2015-01-15 08:00:00</td>\n",
       "      <td>Queens</td>\n",
       "      <td>3.0</td>\n",
       "      <td>10.0</td>\n",
       "      <td>27.0</td>\n",
       "      <td>17.0</td>\n",
       "      <td>1021.6</td>\n",
       "      <td>0.0</td>\n",
       "      <td>0.00</td>\n",
       "      <td>0.000000</td>\n",
       "      <td>0.000000</td>\n",
       "      <td>N</td>\n",
       "    </tr>\n",
       "    <tr>\n",
       "      <th>3</th>\n",
       "      <td>10453</td>\n",
       "      <td>2015-03-07 15:00:00</td>\n",
       "      <td>Brooklyn</td>\n",
       "      <td>7.0</td>\n",
       "      <td>9.1</td>\n",
       "      <td>24.0</td>\n",
       "      <td>7.0</td>\n",
       "      <td>1024.3</td>\n",
       "      <td>0.0</td>\n",
       "      <td>0.29</td>\n",
       "      <td>0.551667</td>\n",
       "      <td>18.583333</td>\n",
       "      <td>N</td>\n",
       "    </tr>\n",
       "    <tr>\n",
       "      <th>4</th>\n",
       "      <td>19043</td>\n",
       "      <td>2015-04-30 08:00:00</td>\n",
       "      <td>EWR</td>\n",
       "      <td>9.0</td>\n",
       "      <td>10.0</td>\n",
       "      <td>49.0</td>\n",
       "      <td>40.0</td>\n",
       "      <td>1006.7</td>\n",
       "      <td>0.0</td>\n",
       "      <td>0.00</td>\n",
       "      <td>0.050000</td>\n",
       "      <td>0.000000</td>\n",
       "      <td>N</td>\n",
       "    </tr>\n",
       "  </tbody>\n",
       "</table>\n",
       "</div>"
      ],
      "text/plain": [
       "      id            pickup_dt   borough  spd   vsb  temp  dewp     slp  pcp01  \\\n",
       "0  26112  2015-06-12 16:00:00       NaN  6.0   9.1  82.0  60.0  1014.2    0.0   \n",
       "1  26896  2015-06-17 12:00:00       EWR  7.0  10.0  72.0  58.0  1018.9    0.0   \n",
       "2   2263  2015-01-15 08:00:00    Queens  3.0  10.0  27.0  17.0  1021.6    0.0   \n",
       "3  10453  2015-03-07 15:00:00  Brooklyn  7.0   9.1  24.0   7.0  1024.3    0.0   \n",
       "4  19043  2015-04-30 08:00:00       EWR  9.0  10.0  49.0  40.0  1006.7    0.0   \n",
       "\n",
       "   pcp06     pcp24         sd hday  \n",
       "0   0.00  0.240000   0.000000    N  \n",
       "1   0.00  0.270000   0.000000    N  \n",
       "2   0.00  0.000000   0.000000    N  \n",
       "3   0.29  0.551667  18.583333    N  \n",
       "4   0.00  0.050000   0.000000    N  "
      ]
     },
     "execution_count": 4,
     "metadata": {},
     "output_type": "execute_result"
    }
   ],
   "source": [
    "X_data.head()"
   ]
  },
  {
   "cell_type": "markdown",
   "metadata": {
    "colab_type": "text",
    "id": "lY_FnNzVhFaE"
   },
   "source": [
    "Давайте немного поиграемся с данными\n",
    "\n",
    "* Сразу уберем такой признак как id поездки.\n",
    "* Преобразуем данные о времени в численный признак\n",
    "* Преобразуем hday (holiday) в бинарный числовой признак"
   ]
  },
  {
   "cell_type": "code",
   "execution_count": 5,
   "metadata": {
    "colab": {
     "base_uri": "https://localhost:8080/",
     "height": 204
    },
    "colab_type": "code",
    "executionInfo": {
     "elapsed": 1403,
     "status": "ok",
     "timestamp": 1544599219406,
     "user": {
      "displayName": "Александра Абрамович",
      "photoUrl": "https://lh3.googleusercontent.com/-lhVyaeGXpKQ/AAAAAAAAAAI/AAAAAAAAAmM/bk_opOKnptY/s64/photo.jpg",
      "userId": "06263514683435705506"
     },
     "user_tz": -180
    },
    "id": "qEpqQqdVhFaJ",
    "outputId": "5fa9508d-6a1f-494c-e9b0-030585573aea"
   },
   "outputs": [
    {
     "data": {
      "text/html": [
       "<div>\n",
       "<style scoped>\n",
       "    .dataframe tbody tr th:only-of-type {\n",
       "        vertical-align: middle;\n",
       "    }\n",
       "\n",
       "    .dataframe tbody tr th {\n",
       "        vertical-align: top;\n",
       "    }\n",
       "\n",
       "    .dataframe thead th {\n",
       "        text-align: right;\n",
       "    }\n",
       "</style>\n",
       "<table border=\"1\" class=\"dataframe\">\n",
       "  <thead>\n",
       "    <tr style=\"text-align: right;\">\n",
       "      <th></th>\n",
       "      <th>pickup_dt</th>\n",
       "      <th>borough</th>\n",
       "      <th>spd</th>\n",
       "      <th>vsb</th>\n",
       "      <th>temp</th>\n",
       "      <th>dewp</th>\n",
       "      <th>slp</th>\n",
       "      <th>pcp01</th>\n",
       "      <th>pcp06</th>\n",
       "      <th>pcp24</th>\n",
       "      <th>sd</th>\n",
       "      <th>hday</th>\n",
       "    </tr>\n",
       "  </thead>\n",
       "  <tbody>\n",
       "    <tr>\n",
       "      <th>0</th>\n",
       "      <td>57600</td>\n",
       "      <td>NaN</td>\n",
       "      <td>6.0</td>\n",
       "      <td>9.1</td>\n",
       "      <td>82.0</td>\n",
       "      <td>60.0</td>\n",
       "      <td>1014.2</td>\n",
       "      <td>0.0</td>\n",
       "      <td>0.00</td>\n",
       "      <td>0.240000</td>\n",
       "      <td>0.000000</td>\n",
       "      <td>0</td>\n",
       "    </tr>\n",
       "    <tr>\n",
       "      <th>1</th>\n",
       "      <td>43200</td>\n",
       "      <td>EWR</td>\n",
       "      <td>7.0</td>\n",
       "      <td>10.0</td>\n",
       "      <td>72.0</td>\n",
       "      <td>58.0</td>\n",
       "      <td>1018.9</td>\n",
       "      <td>0.0</td>\n",
       "      <td>0.00</td>\n",
       "      <td>0.270000</td>\n",
       "      <td>0.000000</td>\n",
       "      <td>0</td>\n",
       "    </tr>\n",
       "    <tr>\n",
       "      <th>2</th>\n",
       "      <td>28800</td>\n",
       "      <td>Queens</td>\n",
       "      <td>3.0</td>\n",
       "      <td>10.0</td>\n",
       "      <td>27.0</td>\n",
       "      <td>17.0</td>\n",
       "      <td>1021.6</td>\n",
       "      <td>0.0</td>\n",
       "      <td>0.00</td>\n",
       "      <td>0.000000</td>\n",
       "      <td>0.000000</td>\n",
       "      <td>0</td>\n",
       "    </tr>\n",
       "    <tr>\n",
       "      <th>3</th>\n",
       "      <td>54000</td>\n",
       "      <td>Brooklyn</td>\n",
       "      <td>7.0</td>\n",
       "      <td>9.1</td>\n",
       "      <td>24.0</td>\n",
       "      <td>7.0</td>\n",
       "      <td>1024.3</td>\n",
       "      <td>0.0</td>\n",
       "      <td>0.29</td>\n",
       "      <td>0.551667</td>\n",
       "      <td>18.583333</td>\n",
       "      <td>0</td>\n",
       "    </tr>\n",
       "    <tr>\n",
       "      <th>4</th>\n",
       "      <td>28800</td>\n",
       "      <td>EWR</td>\n",
       "      <td>9.0</td>\n",
       "      <td>10.0</td>\n",
       "      <td>49.0</td>\n",
       "      <td>40.0</td>\n",
       "      <td>1006.7</td>\n",
       "      <td>0.0</td>\n",
       "      <td>0.00</td>\n",
       "      <td>0.050000</td>\n",
       "      <td>0.000000</td>\n",
       "      <td>0</td>\n",
       "    </tr>\n",
       "  </tbody>\n",
       "</table>\n",
       "</div>"
      ],
      "text/plain": [
       "   pickup_dt   borough  spd   vsb  temp  dewp     slp  pcp01  pcp06     pcp24  \\\n",
       "0      57600       NaN  6.0   9.1  82.0  60.0  1014.2    0.0   0.00  0.240000   \n",
       "1      43200       EWR  7.0  10.0  72.0  58.0  1018.9    0.0   0.00  0.270000   \n",
       "2      28800    Queens  3.0  10.0  27.0  17.0  1021.6    0.0   0.00  0.000000   \n",
       "3      54000  Brooklyn  7.0   9.1  24.0   7.0  1024.3    0.0   0.29  0.551667   \n",
       "4      28800       EWR  9.0  10.0  49.0  40.0  1006.7    0.0   0.00  0.050000   \n",
       "\n",
       "          sd  hday  \n",
       "0   0.000000     0  \n",
       "1   0.000000     0  \n",
       "2   0.000000     0  \n",
       "3  18.583333     0  \n",
       "4   0.000000     0  "
      ]
     },
     "execution_count": 5,
     "metadata": {},
     "output_type": "execute_result"
    }
   ],
   "source": [
    "X = pd.DataFrame(X_data, copy=True)\n",
    "del X['id']\n",
    "X['pickup_dt'] = X['pickup_dt'].apply(\n",
    "    lambda x: datetime.strptime(x,\"%Y-%m-%d %H:%M:%S\").time()\n",
    ").apply(\n",
    "    lambda x: x.second+x.minute*60+x.hour*3600\n",
    ")\n",
    "X['hday'] = X['hday'].apply(lambda x: 0 if x == 'N' else 1)    \n",
    "X.head()"
   ]
  },
  {
   "cell_type": "code",
   "execution_count": 6,
   "metadata": {
    "colab": {
     "base_uri": "https://localhost:8080/",
     "height": 297
    },
    "colab_type": "code",
    "executionInfo": {
     "elapsed": 833,
     "status": "ok",
     "timestamp": 1544599221616,
     "user": {
      "displayName": "Александра Абрамович",
      "photoUrl": "https://lh3.googleusercontent.com/-lhVyaeGXpKQ/AAAAAAAAAAI/AAAAAAAAAmM/bk_opOKnptY/s64/photo.jpg",
      "userId": "06263514683435705506"
     },
     "user_tz": -180
    },
    "id": "V1b1oXTehFag",
    "outputId": "d001e125-d86a-4d72-b93b-f16e774b6fbf"
   },
   "outputs": [
    {
     "data": {
      "text/html": [
       "<div>\n",
       "<style scoped>\n",
       "    .dataframe tbody tr th:only-of-type {\n",
       "        vertical-align: middle;\n",
       "    }\n",
       "\n",
       "    .dataframe tbody tr th {\n",
       "        vertical-align: top;\n",
       "    }\n",
       "\n",
       "    .dataframe thead th {\n",
       "        text-align: right;\n",
       "    }\n",
       "</style>\n",
       "<table border=\"1\" class=\"dataframe\">\n",
       "  <thead>\n",
       "    <tr style=\"text-align: right;\">\n",
       "      <th></th>\n",
       "      <th>pickup_dt</th>\n",
       "      <th>spd</th>\n",
       "      <th>vsb</th>\n",
       "      <th>temp</th>\n",
       "      <th>dewp</th>\n",
       "      <th>slp</th>\n",
       "      <th>pcp01</th>\n",
       "      <th>pcp06</th>\n",
       "      <th>pcp24</th>\n",
       "      <th>sd</th>\n",
       "      <th>hday</th>\n",
       "    </tr>\n",
       "  </thead>\n",
       "  <tbody>\n",
       "    <tr>\n",
       "      <th>count</th>\n",
       "      <td>23280.000000</td>\n",
       "      <td>23280.000000</td>\n",
       "      <td>23280.000000</td>\n",
       "      <td>23280.000000</td>\n",
       "      <td>23280.000000</td>\n",
       "      <td>23280.000000</td>\n",
       "      <td>23280.000000</td>\n",
       "      <td>23280.000000</td>\n",
       "      <td>23280.000000</td>\n",
       "      <td>23280.000000</td>\n",
       "      <td>23280.000000</td>\n",
       "    </tr>\n",
       "    <tr>\n",
       "      <th>mean</th>\n",
       "      <td>41689.793814</td>\n",
       "      <td>5.993788</td>\n",
       "      <td>8.828963</td>\n",
       "      <td>47.634604</td>\n",
       "      <td>30.770120</td>\n",
       "      <td>1017.860657</td>\n",
       "      <td>0.003779</td>\n",
       "      <td>0.026113</td>\n",
       "      <td>0.089921</td>\n",
       "      <td>2.543623</td>\n",
       "      <td>0.037758</td>\n",
       "    </tr>\n",
       "    <tr>\n",
       "      <th>std</th>\n",
       "      <td>24833.431797</td>\n",
       "      <td>3.705928</td>\n",
       "      <td>2.428889</td>\n",
       "      <td>19.866550</td>\n",
       "      <td>21.328122</td>\n",
       "      <td>7.752882</td>\n",
       "      <td>0.018938</td>\n",
       "      <td>0.093398</td>\n",
       "      <td>0.217826</td>\n",
       "      <td>4.526571</td>\n",
       "      <td>0.190614</td>\n",
       "    </tr>\n",
       "    <tr>\n",
       "      <th>min</th>\n",
       "      <td>0.000000</td>\n",
       "      <td>0.000000</td>\n",
       "      <td>0.000000</td>\n",
       "      <td>2.000000</td>\n",
       "      <td>-16.000000</td>\n",
       "      <td>991.400000</td>\n",
       "      <td>0.000000</td>\n",
       "      <td>0.000000</td>\n",
       "      <td>0.000000</td>\n",
       "      <td>0.000000</td>\n",
       "      <td>0.000000</td>\n",
       "    </tr>\n",
       "    <tr>\n",
       "      <th>25%</th>\n",
       "      <td>21600.000000</td>\n",
       "      <td>3.000000</td>\n",
       "      <td>9.100000</td>\n",
       "      <td>32.000000</td>\n",
       "      <td>14.000000</td>\n",
       "      <td>1012.500000</td>\n",
       "      <td>0.000000</td>\n",
       "      <td>0.000000</td>\n",
       "      <td>0.000000</td>\n",
       "      <td>0.000000</td>\n",
       "      <td>0.000000</td>\n",
       "    </tr>\n",
       "    <tr>\n",
       "      <th>50%</th>\n",
       "      <td>43200.000000</td>\n",
       "      <td>6.000000</td>\n",
       "      <td>10.000000</td>\n",
       "      <td>46.000000</td>\n",
       "      <td>30.000000</td>\n",
       "      <td>1018.300000</td>\n",
       "      <td>0.000000</td>\n",
       "      <td>0.000000</td>\n",
       "      <td>0.000000</td>\n",
       "      <td>0.000000</td>\n",
       "      <td>0.000000</td>\n",
       "    </tr>\n",
       "    <tr>\n",
       "      <th>75%</th>\n",
       "      <td>64800.000000</td>\n",
       "      <td>8.000000</td>\n",
       "      <td>10.000000</td>\n",
       "      <td>64.666667</td>\n",
       "      <td>50.000000</td>\n",
       "      <td>1023.000000</td>\n",
       "      <td>0.000000</td>\n",
       "      <td>0.000000</td>\n",
       "      <td>0.050000</td>\n",
       "      <td>3.437500</td>\n",
       "      <td>0.000000</td>\n",
       "    </tr>\n",
       "    <tr>\n",
       "      <th>max</th>\n",
       "      <td>82800.000000</td>\n",
       "      <td>21.000000</td>\n",
       "      <td>10.000000</td>\n",
       "      <td>89.000000</td>\n",
       "      <td>73.000000</td>\n",
       "      <td>1043.400000</td>\n",
       "      <td>0.280000</td>\n",
       "      <td>1.240000</td>\n",
       "      <td>2.100000</td>\n",
       "      <td>19.000000</td>\n",
       "      <td>1.000000</td>\n",
       "    </tr>\n",
       "  </tbody>\n",
       "</table>\n",
       "</div>"
      ],
      "text/plain": [
       "          pickup_dt           spd           vsb          temp          dewp  \\\n",
       "count  23280.000000  23280.000000  23280.000000  23280.000000  23280.000000   \n",
       "mean   41689.793814      5.993788      8.828963     47.634604     30.770120   \n",
       "std    24833.431797      3.705928      2.428889     19.866550     21.328122   \n",
       "min        0.000000      0.000000      0.000000      2.000000    -16.000000   \n",
       "25%    21600.000000      3.000000      9.100000     32.000000     14.000000   \n",
       "50%    43200.000000      6.000000     10.000000     46.000000     30.000000   \n",
       "75%    64800.000000      8.000000     10.000000     64.666667     50.000000   \n",
       "max    82800.000000     21.000000     10.000000     89.000000     73.000000   \n",
       "\n",
       "                slp         pcp01         pcp06         pcp24            sd  \\\n",
       "count  23280.000000  23280.000000  23280.000000  23280.000000  23280.000000   \n",
       "mean    1017.860657      0.003779      0.026113      0.089921      2.543623   \n",
       "std        7.752882      0.018938      0.093398      0.217826      4.526571   \n",
       "min      991.400000      0.000000      0.000000      0.000000      0.000000   \n",
       "25%     1012.500000      0.000000      0.000000      0.000000      0.000000   \n",
       "50%     1018.300000      0.000000      0.000000      0.000000      0.000000   \n",
       "75%     1023.000000      0.000000      0.000000      0.050000      3.437500   \n",
       "max     1043.400000      0.280000      1.240000      2.100000     19.000000   \n",
       "\n",
       "               hday  \n",
       "count  23280.000000  \n",
       "mean       0.037758  \n",
       "std        0.190614  \n",
       "min        0.000000  \n",
       "25%        0.000000  \n",
       "50%        0.000000  \n",
       "75%        0.000000  \n",
       "max        1.000000  "
      ]
     },
     "execution_count": 6,
     "metadata": {},
     "output_type": "execute_result"
    }
   ],
   "source": [
    "X.describe()"
   ]
  },
  {
   "cell_type": "markdown",
   "metadata": {
    "colab_type": "text",
    "id": "AO2I9AvRhFbS"
   },
   "source": [
    "Посмотрим, какие данные коррелируют между собой:"
   ]
  },
  {
   "cell_type": "code",
   "execution_count": 7,
   "metadata": {
    "colab": {
     "base_uri": "https://localhost:8080/",
     "height": 809
    },
    "colab_type": "code",
    "executionInfo": {
     "elapsed": 2332,
     "status": "ok",
     "timestamp": 1544599225849,
     "user": {
      "displayName": "Александра Абрамович",
      "photoUrl": "https://lh3.googleusercontent.com/-lhVyaeGXpKQ/AAAAAAAAAAI/AAAAAAAAAmM/bk_opOKnptY/s64/photo.jpg",
      "userId": "06263514683435705506"
     },
     "user_tz": -180
    },
    "id": "qQIQkDiahFbZ",
    "outputId": "89cfd470-39cb-4244-a266-c097835c5285"
   },
   "outputs": [
    {
     "data": {
      "image/png": "[encoded data removed]",
      "text/plain": [
       "<Figure size 1440x1008 with 2 Axes>"
      ]
     },
     "metadata": {
      "needs_background": "light"
     },
     "output_type": "display_data"
    }
   ],
   "source": [
    "def plot_correlation_map(df):\n",
    "    corr = df.corr()\n",
    "    _ , ax = plt.subplots(figsize=(20, 14))\n",
    "    cmap = sns.diverging_palette(220, 10, as_cmap = True)\n",
    "    _ = sns.heatmap(\n",
    "        corr, \n",
    "        cmap = cmap,\n",
    "        square=True, \n",
    "        ax=ax, \n",
    "        annot = True, \n",
    "        annot_kws = {'fontsize': 10}\n",
    "    )\n",
    "\n",
    "plot_correlation_map(X)"
   ]
  },
  {
   "cell_type": "markdown",
   "metadata": {
    "colab_type": "text",
    "id": "-kUzhcRKhFbk"
   },
   "source": [
    "Что заметили: Признаки dewp и temp очень сильно коррелируют, но все же убирать этот признак пока не будем"
   ]
  },
  {
   "cell_type": "markdown",
   "metadata": {
    "colab_type": "text",
    "id": "vSIkvEU4hFbm"
   },
   "source": [
    "Тем временем наступило время нормализации! "
   ]
  },
  {
   "cell_type": "code",
   "execution_count": 9,
   "metadata": {
    "colab": {},
    "colab_type": "code",
    "id": "f-aExtINhFbx"
   },
   "outputs": [],
   "source": [
    "def normalize(v):\n",
    "    norm = np.linalg.norm(v)\n",
    "    if norm == 0: \n",
    "        return v\n",
    "    return v / norm\n",
    "\n",
    "for column_name in ['pickup_dt', 'spd', 'vsb', 'temp', 'dewp', \n",
    "                    'slp', 'pcp01', 'pcp06', 'pcp24', 'sd']:\n",
    "    X[column_name] = normalize(X[column_name])"
   ]
  },
  {
   "cell_type": "code",
   "execution_count": 10,
   "metadata": {
    "colab": {
     "base_uri": "https://localhost:8080/",
     "height": 297
    },
    "colab_type": "code",
    "executionInfo": {
     "elapsed": 1452,
     "status": "ok",
     "timestamp": 1544599287233,
     "user": {
      "displayName": "Александра Абрамович",
      "photoUrl": "https://lh3.googleusercontent.com/-lhVyaeGXpKQ/AAAAAAAAAAI/AAAAAAAAAmM/bk_opOKnptY/s64/photo.jpg",
      "userId": "06263514683435705506"
     },
     "user_tz": -180
    },
    "id": "cr0TQgqehFb2",
    "outputId": "5b95ca08-00c5-4edd-bb6c-121e7f6d9290"
   },
   "outputs": [
    {
     "data": {
      "text/html": [
       "<div>\n",
       "<style scoped>\n",
       "    .dataframe tbody tr th:only-of-type {\n",
       "        vertical-align: middle;\n",
       "    }\n",
       "\n",
       "    .dataframe tbody tr th {\n",
       "        vertical-align: top;\n",
       "    }\n",
       "\n",
       "    .dataframe thead th {\n",
       "        text-align: right;\n",
       "    }\n",
       "</style>\n",
       "<table border=\"1\" class=\"dataframe\">\n",
       "  <thead>\n",
       "    <tr style=\"text-align: right;\">\n",
       "      <th></th>\n",
       "      <th>pickup_dt</th>\n",
       "      <th>spd</th>\n",
       "      <th>vsb</th>\n",
       "      <th>temp</th>\n",
       "      <th>dewp</th>\n",
       "      <th>slp</th>\n",
       "      <th>pcp01</th>\n",
       "      <th>pcp06</th>\n",
       "      <th>pcp24</th>\n",
       "      <th>sd</th>\n",
       "      <th>hday</th>\n",
       "    </tr>\n",
       "  </thead>\n",
       "  <tbody>\n",
       "    <tr>\n",
       "      <th>count</th>\n",
       "      <td>23280.000000</td>\n",
       "      <td>23280.000000</td>\n",
       "      <td>23280.000000</td>\n",
       "      <td>23280.000000</td>\n",
       "      <td>23280.000000</td>\n",
       "      <td>23280.000000</td>\n",
       "      <td>23280.000000</td>\n",
       "      <td>23280.000000</td>\n",
       "      <td>23280.000000</td>\n",
       "      <td>23280.000000</td>\n",
       "      <td>23280.000000</td>\n",
       "    </tr>\n",
       "    <tr>\n",
       "      <th>mean</th>\n",
       "      <td>0.005631</td>\n",
       "      <td>0.005575</td>\n",
       "      <td>0.006319</td>\n",
       "      <td>0.006049</td>\n",
       "      <td>0.005387</td>\n",
       "      <td>0.006554</td>\n",
       "      <td>0.001283</td>\n",
       "      <td>0.001765</td>\n",
       "      <td>0.002501</td>\n",
       "      <td>0.003211</td>\n",
       "      <td>0.037758</td>\n",
       "    </tr>\n",
       "    <tr>\n",
       "      <th>std</th>\n",
       "      <td>0.003354</td>\n",
       "      <td>0.003447</td>\n",
       "      <td>0.001738</td>\n",
       "      <td>0.002523</td>\n",
       "      <td>0.003734</td>\n",
       "      <td>0.000050</td>\n",
       "      <td>0.006427</td>\n",
       "      <td>0.006312</td>\n",
       "      <td>0.006058</td>\n",
       "      <td>0.005714</td>\n",
       "      <td>0.190614</td>\n",
       "    </tr>\n",
       "    <tr>\n",
       "      <th>min</th>\n",
       "      <td>0.000000</td>\n",
       "      <td>0.000000</td>\n",
       "      <td>0.000000</td>\n",
       "      <td>0.000254</td>\n",
       "      <td>-0.002801</td>\n",
       "      <td>0.006383</td>\n",
       "      <td>0.000000</td>\n",
       "      <td>0.000000</td>\n",
       "      <td>0.000000</td>\n",
       "      <td>0.000000</td>\n",
       "      <td>0.000000</td>\n",
       "    </tr>\n",
       "    <tr>\n",
       "      <th>25%</th>\n",
       "      <td>0.002917</td>\n",
       "      <td>0.002790</td>\n",
       "      <td>0.006513</td>\n",
       "      <td>0.004064</td>\n",
       "      <td>0.002451</td>\n",
       "      <td>0.006519</td>\n",
       "      <td>0.000000</td>\n",
       "      <td>0.000000</td>\n",
       "      <td>0.000000</td>\n",
       "      <td>0.000000</td>\n",
       "      <td>0.000000</td>\n",
       "    </tr>\n",
       "    <tr>\n",
       "      <th>50%</th>\n",
       "      <td>0.005835</td>\n",
       "      <td>0.005580</td>\n",
       "      <td>0.007157</td>\n",
       "      <td>0.005841</td>\n",
       "      <td>0.005252</td>\n",
       "      <td>0.006557</td>\n",
       "      <td>0.000000</td>\n",
       "      <td>0.000000</td>\n",
       "      <td>0.000000</td>\n",
       "      <td>0.000000</td>\n",
       "      <td>0.000000</td>\n",
       "    </tr>\n",
       "    <tr>\n",
       "      <th>75%</th>\n",
       "      <td>0.008752</td>\n",
       "      <td>0.007440</td>\n",
       "      <td>0.007157</td>\n",
       "      <td>0.008212</td>\n",
       "      <td>0.008753</td>\n",
       "      <td>0.006587</td>\n",
       "      <td>0.000000</td>\n",
       "      <td>0.000000</td>\n",
       "      <td>0.001391</td>\n",
       "      <td>0.004339</td>\n",
       "      <td>0.000000</td>\n",
       "    </tr>\n",
       "    <tr>\n",
       "      <th>max</th>\n",
       "      <td>0.011183</td>\n",
       "      <td>0.019531</td>\n",
       "      <td>0.007157</td>\n",
       "      <td>0.011302</td>\n",
       "      <td>0.012779</td>\n",
       "      <td>0.006718</td>\n",
       "      <td>0.095031</td>\n",
       "      <td>0.083803</td>\n",
       "      <td>0.058406</td>\n",
       "      <td>0.023983</td>\n",
       "      <td>1.000000</td>\n",
       "    </tr>\n",
       "  </tbody>\n",
       "</table>\n",
       "</div>"
      ],
      "text/plain": [
       "          pickup_dt           spd           vsb          temp          dewp  \\\n",
       "count  23280.000000  23280.000000  23280.000000  23280.000000  23280.000000   \n",
       "mean       0.005631      0.005575      0.006319      0.006049      0.005387   \n",
       "std        0.003354      0.003447      0.001738      0.002523      0.003734   \n",
       "min        0.000000      0.000000      0.000000      0.000254     -0.002801   \n",
       "25%        0.002917      0.002790      0.006513      0.004064      0.002451   \n",
       "50%        0.005835      0.005580      0.007157      0.005841      0.005252   \n",
       "75%        0.008752      0.007440      0.007157      0.008212      0.008753   \n",
       "max        0.011183      0.019531      0.007157      0.011302      0.012779   \n",
       "\n",
       "                slp         pcp01         pcp06         pcp24            sd  \\\n",
       "count  23280.000000  23280.000000  23280.000000  23280.000000  23280.000000   \n",
       "mean       0.006554      0.001283      0.001765      0.002501      0.003211   \n",
       "std        0.000050      0.006427      0.006312      0.006058      0.005714   \n",
       "min        0.006383      0.000000      0.000000      0.000000      0.000000   \n",
       "25%        0.006519      0.000000      0.000000      0.000000      0.000000   \n",
       "50%        0.006557      0.000000      0.000000      0.000000      0.000000   \n",
       "75%        0.006587      0.000000      0.000000      0.001391      0.004339   \n",
       "max        0.006718      0.095031      0.083803      0.058406      0.023983   \n",
       "\n",
       "               hday  \n",
       "count  23280.000000  \n",
       "mean       0.037758  \n",
       "std        0.190614  \n",
       "min        0.000000  \n",
       "25%        0.000000  \n",
       "50%        0.000000  \n",
       "75%        0.000000  \n",
       "max        1.000000  "
      ]
     },
     "execution_count": 10,
     "metadata": {},
     "output_type": "execute_result"
    }
   ],
   "source": [
    "X.describe()"
   ]
  },
  {
   "cell_type": "markdown",
   "metadata": {
    "colab_type": "text",
    "id": "fo_AssWbhFcE"
   },
   "source": [
    "Рассмотрим категориальный признак borough"
   ]
  },
  {
   "cell_type": "code",
   "execution_count": 11,
   "metadata": {
    "colab": {
     "base_uri": "https://localhost:8080/",
     "height": 35
    },
    "colab_type": "code",
    "executionInfo": {
     "elapsed": 1465,
     "status": "ok",
     "timestamp": 1544599370409,
     "user": {
      "displayName": "Александра Абрамович",
      "photoUrl": "https://lh3.googleusercontent.com/-lhVyaeGXpKQ/AAAAAAAAAAI/AAAAAAAAAmM/bk_opOKnptY/s64/photo.jpg",
      "userId": "06263514683435705506"
     },
     "user_tz": -180
    },
    "id": "hlqzKEF9hFcL",
    "outputId": "d0e5b214-9490-4c2b-ab23-41ba4b4a138b"
   },
   "outputs": [
    {
     "data": {
      "text/plain": [
       "{'Bronx', 'Brooklyn', 'EWR', 'Manhattan', 'Queens', 'Staten Island', nan}"
      ]
     },
     "execution_count": 11,
     "metadata": {},
     "output_type": "execute_result"
    }
   ],
   "source": [
    "set(X['borough'].values)"
   ]
  },
  {
   "cell_type": "markdown",
   "metadata": {
    "colab_type": "text",
    "id": "q6oDUQRahFcV"
   },
   "source": [
    "Значений мало, подойдет one-hot encoding"
   ]
  },
  {
   "cell_type": "code",
   "execution_count": 12,
   "metadata": {
    "colab": {},
    "colab_type": "code",
    "id": "DHGwgJdQhFcW"
   },
   "outputs": [],
   "source": [
    "for value in set(X['borough'].values):\n",
    "    new_value = 'borough_{}'.format(value)\n",
    "    X[new_value] = (X['borough'] == value)"
   ]
  },
  {
   "cell_type": "code",
   "execution_count": 13,
   "metadata": {
    "colab": {
     "base_uri": "https://localhost:8080/",
     "height": 1054
    },
    "colab_type": "code",
    "executionInfo": {
     "elapsed": 1530,
     "status": "error",
     "timestamp": 1544599417841,
     "user": {
      "displayName": "Александра Абрамович",
      "photoUrl": "https://lh3.googleusercontent.com/-lhVyaeGXpKQ/AAAAAAAAAAI/AAAAAAAAAmM/bk_opOKnptY/s64/photo.jpg",
      "userId": "06263514683435705506"
     },
     "user_tz": -180
    },
    "id": "6jFBqzNmhFcb",
    "outputId": "64c681da-3a95-480a-8495-119edca2bd13"
   },
   "outputs": [
    {
     "data": {
      "text/html": [
       "<div>\n",
       "<style scoped>\n",
       "    .dataframe tbody tr th:only-of-type {\n",
       "        vertical-align: middle;\n",
       "    }\n",
       "\n",
       "    .dataframe tbody tr th {\n",
       "        vertical-align: top;\n",
       "    }\n",
       "\n",
       "    .dataframe thead th {\n",
       "        text-align: right;\n",
       "    }\n",
       "</style>\n",
       "<table border=\"1\" class=\"dataframe\">\n",
       "  <thead>\n",
       "    <tr style=\"text-align: right;\">\n",
       "      <th></th>\n",
       "      <th>pickup_dt</th>\n",
       "      <th>spd</th>\n",
       "      <th>vsb</th>\n",
       "      <th>temp</th>\n",
       "      <th>dewp</th>\n",
       "      <th>slp</th>\n",
       "      <th>pcp01</th>\n",
       "      <th>pcp06</th>\n",
       "      <th>pcp24</th>\n",
       "      <th>sd</th>\n",
       "      <th>hday</th>\n",
       "      <th>borough_Brooklyn</th>\n",
       "      <th>borough_Queens</th>\n",
       "      <th>borough_Staten Island</th>\n",
       "      <th>borough_EWR</th>\n",
       "      <th>borough_Manhattan</th>\n",
       "      <th>borough_Bronx</th>\n",
       "    </tr>\n",
       "  </thead>\n",
       "  <tbody>\n",
       "    <tr>\n",
       "      <th>0</th>\n",
       "      <td>0.007780</td>\n",
       "      <td>0.005580</td>\n",
       "      <td>0.006513</td>\n",
       "      <td>0.010413</td>\n",
       "      <td>0.010504</td>\n",
       "      <td>0.006530</td>\n",
       "      <td>0.0</td>\n",
       "      <td>0.000000</td>\n",
       "      <td>0.006675</td>\n",
       "      <td>0.000000</td>\n",
       "      <td>0</td>\n",
       "      <td>False</td>\n",
       "      <td>False</td>\n",
       "      <td>False</td>\n",
       "      <td>False</td>\n",
       "      <td>False</td>\n",
       "      <td>False</td>\n",
       "    </tr>\n",
       "    <tr>\n",
       "      <th>1</th>\n",
       "      <td>0.005835</td>\n",
       "      <td>0.006510</td>\n",
       "      <td>0.007157</td>\n",
       "      <td>0.009143</td>\n",
       "      <td>0.010153</td>\n",
       "      <td>0.006561</td>\n",
       "      <td>0.0</td>\n",
       "      <td>0.000000</td>\n",
       "      <td>0.007509</td>\n",
       "      <td>0.000000</td>\n",
       "      <td>0</td>\n",
       "      <td>False</td>\n",
       "      <td>False</td>\n",
       "      <td>False</td>\n",
       "      <td>True</td>\n",
       "      <td>False</td>\n",
       "      <td>False</td>\n",
       "    </tr>\n",
       "    <tr>\n",
       "      <th>2</th>\n",
       "      <td>0.003890</td>\n",
       "      <td>0.002790</td>\n",
       "      <td>0.007157</td>\n",
       "      <td>0.003429</td>\n",
       "      <td>0.002976</td>\n",
       "      <td>0.006578</td>\n",
       "      <td>0.0</td>\n",
       "      <td>0.000000</td>\n",
       "      <td>0.000000</td>\n",
       "      <td>0.000000</td>\n",
       "      <td>0</td>\n",
       "      <td>False</td>\n",
       "      <td>True</td>\n",
       "      <td>False</td>\n",
       "      <td>False</td>\n",
       "      <td>False</td>\n",
       "      <td>False</td>\n",
       "    </tr>\n",
       "    <tr>\n",
       "      <th>3</th>\n",
       "      <td>0.007293</td>\n",
       "      <td>0.006510</td>\n",
       "      <td>0.006513</td>\n",
       "      <td>0.003048</td>\n",
       "      <td>0.001225</td>\n",
       "      <td>0.006595</td>\n",
       "      <td>0.0</td>\n",
       "      <td>0.019599</td>\n",
       "      <td>0.015343</td>\n",
       "      <td>0.023457</td>\n",
       "      <td>0</td>\n",
       "      <td>True</td>\n",
       "      <td>False</td>\n",
       "      <td>False</td>\n",
       "      <td>False</td>\n",
       "      <td>False</td>\n",
       "      <td>False</td>\n",
       "    </tr>\n",
       "    <tr>\n",
       "      <th>4</th>\n",
       "      <td>0.003890</td>\n",
       "      <td>0.008371</td>\n",
       "      <td>0.007157</td>\n",
       "      <td>0.006222</td>\n",
       "      <td>0.007002</td>\n",
       "      <td>0.006482</td>\n",
       "      <td>0.0</td>\n",
       "      <td>0.000000</td>\n",
       "      <td>0.001391</td>\n",
       "      <td>0.000000</td>\n",
       "      <td>0</td>\n",
       "      <td>False</td>\n",
       "      <td>False</td>\n",
       "      <td>False</td>\n",
       "      <td>True</td>\n",
       "      <td>False</td>\n",
       "      <td>False</td>\n",
       "    </tr>\n",
       "  </tbody>\n",
       "</table>\n",
       "</div>"
      ],
      "text/plain": [
       "   pickup_dt       spd       vsb      temp      dewp       slp  pcp01  \\\n",
       "0   0.007780  0.005580  0.006513  0.010413  0.010504  0.006530    0.0   \n",
       "1   0.005835  0.006510  0.007157  0.009143  0.010153  0.006561    0.0   \n",
       "2   0.003890  0.002790  0.007157  0.003429  0.002976  0.006578    0.0   \n",
       "3   0.007293  0.006510  0.006513  0.003048  0.001225  0.006595    0.0   \n",
       "4   0.003890  0.008371  0.007157  0.006222  0.007002  0.006482    0.0   \n",
       "\n",
       "      pcp06     pcp24        sd  hday  borough_Brooklyn  borough_Queens  \\\n",
       "0  0.000000  0.006675  0.000000     0             False           False   \n",
       "1  0.000000  0.007509  0.000000     0             False           False   \n",
       "2  0.000000  0.000000  0.000000     0             False            True   \n",
       "3  0.019599  0.015343  0.023457     0              True           False   \n",
       "4  0.000000  0.001391  0.000000     0             False           False   \n",
       "\n",
       "   borough_Staten Island  borough_EWR  borough_Manhattan  borough_Bronx  \n",
       "0                  False        False              False          False  \n",
       "1                  False         True              False          False  \n",
       "2                  False        False              False          False  \n",
       "3                  False        False              False          False  \n",
       "4                  False         True              False          False  "
      ]
     },
     "execution_count": 13,
     "metadata": {},
     "output_type": "execute_result"
    }
   ],
   "source": [
    "del X['borough']\n",
    "del X['borough_nan']\n",
    "X.head()"
   ]
  },
  {
   "cell_type": "markdown",
   "metadata": {
    "colab_type": "text",
    "id": "NFu1xObzhFch"
   },
   "source": [
    "Подготовим вектор ответов"
   ]
  },
  {
   "cell_type": "code",
   "execution_count": 14,
   "metadata": {
    "colab": {},
    "colab_type": "code",
    "id": "h7Pnab4ohFcj"
   },
   "outputs": [],
   "source": [
    "Y_data.head()\n",
    "merged = pd.merge(X_data, Y_data, on=['id'])\n",
    "Y = merged['pickups'].values"
   ]
  },
  {
   "cell_type": "markdown",
   "metadata": {
    "colab_type": "text",
    "id": "ZCv2cieVhFcp"
   },
   "source": [
    "Начинаем учить(-ся)"
   ]
  },
  {
   "cell_type": "code",
   "execution_count": 15,
   "metadata": {
    "colab": {},
    "colab_type": "code",
    "id": "-_VjVjgvhFcr"
   },
   "outputs": [],
   "source": [
    "num_test = 0.20\n",
    "X_train, X_valid, y_train, y_valid = train_test_split(X, Y, test_size=num_test, random_state=23)"
   ]
  },
  {
   "cell_type": "code",
   "execution_count": 31,
   "metadata": {
    "colab": {},
    "colab_type": "code",
    "id": "7iW9BywRhFcw"
   },
   "outputs": [],
   "source": [
    "mean_squared_error_scorer = make_scorer(mean_squared_error)\n",
    "\n",
    "def int_plotter(scores, params, x_name): \n",
    "    plt.plot(params, scores)\n",
    "    plt.xlabel(x_name)\n",
    "    plt.ylabel('Mean score')\n",
    "    plt.show()\n",
    "    \n",
    "def str_plotter(scores, params, x_name):\n",
    "    plt.figure(figsize=(20, 5))\n",
    "    params_int = list(range(1, len(params) + 1))\n",
    "    plt.bar(params_int, scores, align='center')\n",
    "    plt.xticks(params_int, params)\n",
    "    plt.show()\n",
    "    \n",
    "def run_search(X, Y, clf, parameters, plotter=None):\n",
    "    grid_obj = GridSearchCV(clf, parameters, cv=StratifiedKFold(2), \n",
    "                            scoring=mean_squared_error_scorer, n_jobs=4, verbose=3)\n",
    "    grid_obj = grid_obj.fit(X, Y)\n",
    "    if (plotter is not None):\n",
    "        plotter(grid_obj.cv_results_['mean_test_score'], list(parameters.values())[0], list(parameters.keys())[0])\n",
    "    print('Best score: {}'.format(grid_obj.best_score_))\n",
    "    return grid_obj.best_estimator_\n",
    "    \n",
    "def eval_kfold(X, Y, clf):\n",
    "    mean_outcome = np.mean(cross_val_score(clf, X, Y, scoring=mean_squared_error_scorer))\n",
    "    return mean_outcome    "
   ]
  },
  {
   "cell_type": "code",
   "execution_count": null,
   "metadata": {
    "colab": {},
    "colab_type": "code",
    "id": "JAVgi1nWhFc4",
    "scrolled": true
   },
   "outputs": [
    {
     "name": "stdout",
     "output_type": "stream",
     "text": [
      "Fitting 2 folds for each of 24 candidates, totalling 48 fits\n",
      "[CV] max_depth=3, min_samples_leaf=3, min_samples_split=2, n_estimators=100 \n",
      "[CV] max_depth=3, min_samples_leaf=3, min_samples_split=2, n_estimators=100 \n",
      "[CV] max_depth=3, min_samples_leaf=3, min_samples_split=2, n_estimators=200 \n",
      "[CV] max_depth=3, min_samples_leaf=3, min_samples_split=2, n_estimators=200 \n",
      "[CV]  max_depth=3, min_samples_leaf=3, min_samples_split=2, n_estimators=100, score=1862008.0756882965, total=697.3min\n",
      "[CV] max_depth=3, min_samples_leaf=3, min_samples_split=3, n_estimators=100 \n"
     ]
    }
   ],
   "source": [
    "best_clfs={}\n",
    "best_clfs['GradientBoostingClassifier'] = run_search(X_train, y_train, GradientBoostingClassifier(),\n",
    "                                                     {'n_estimators': [100, 200],\n",
    "                                                     'min_samples_split': [2, 3, 5],\n",
    "                                                     'min_samples_leaf': [3, 5],\n",
    "                                                     'max_depth': [3, 4]})"
   ]
  },
  {
   "cell_type": "code",
   "execution_count": 0,
   "metadata": {
    "colab": {
     "base_uri": "https://localhost:8080/",
     "height": 306
    },
    "colab_type": "code",
    "executionInfo": {
     "elapsed": 1469,
     "status": "ok",
     "timestamp": 1544519624885,
     "user": {
      "displayName": "Kate Zabelova",
      "photoUrl": "https://lh6.googleusercontent.com/-mc5cIT-i1Uc/AAAAAAAAAAI/AAAAAAAAHA8/Wqqo82mjBHk/s64/photo.jpg",
      "userId": "07447270177822604425"
     },
     "user_tz": -180
    },
    "id": "qYq_wFSVI4jj",
    "outputId": "13bf5f63-55eb-488b-99c5-04c292dbe60d"
   },
   "outputs": [
    {
     "data": {
      "text/plain": [
       "{'DecisionTreeClassifier': DecisionTreeClassifier(class_weight=None, criterion='gini', max_depth=3,\n",
       "             max_features=None, max_leaf_nodes=None,\n",
       "             min_impurity_decrease=0.0, min_impurity_split=None,\n",
       "             min_samples_leaf=3, min_samples_split=3,\n",
       "             min_weight_fraction_leaf=0.0, presort=False, random_state=None,\n",
       "             splitter='best'),\n",
       " 'LogisticRegression': LogisticRegression(C=1.0, class_weight=None, dual=False, fit_intercept=True,\n",
       "           intercept_scaling=1, max_iter=100, multi_class='ovr', n_jobs=1,\n",
       "           penalty='l2', random_state=None, solver='newton-cg', tol=0.0001,\n",
       "           verbose=0, warm_start=False),\n",
       " 'RandomForestClassifier': RandomForestClassifier(bootstrap=True, class_weight=None, criterion='entropy',\n",
       "             max_depth=5, max_features='auto', max_leaf_nodes=None,\n",
       "             min_impurity_decrease=0.0, min_impurity_split=None,\n",
       "             min_samples_leaf=5, min_samples_split=2,\n",
       "             min_weight_fraction_leaf=0.0, n_estimators=50, n_jobs=1,\n",
       "             oob_score=False, random_state=None, verbose=0,\n",
       "             warm_start=False)}"
      ]
     },
     "execution_count": 18,
     "metadata": {
      "tags": []
     },
     "output_type": "execute_result"
    }
   ],
   "source": [
    "best_clfs"
   ]
  },
  {
   "cell_type": "code",
   "execution_count": 0,
   "metadata": {
    "colab": {},
    "colab_type": "code",
    "id": "hr2fh8jBhFc8"
   },
   "outputs": [],
   "source": [
    "def total_trasform(X):\n",
    "    X['pickup_dt'] = X['pickup_dt'].apply(lambda x: datetime.strptime(x,\"%Y-%m-%d %H:%M:%S\").time())\n",
    "    X['pickup_dt'] = X['pickup_dt'].apply(lambda x: x.second+x.minute*60+x.hour*3600)\n",
    "    X['hday'] = X['hday'].apply(lambda x: 0 if x == 'N' else 1)\n",
    "    for column_name in ['pickup_dt', 'spd', 'vsb', 'temp', 'dewp', \n",
    "                        'slp', 'pcp01', 'pcp06', 'pcp24', 'sd']:\n",
    "        X[column_name] = normalize(X[column_name])\n",
    "    for value in set(X['borough'].values):\n",
    "        new_value = 'borough_{}'.format(value)\n",
    "        X[new_value] = (X['borough'] == value)    \n",
    "    del X_target['borough']\n",
    "    del X['borough_nan']\n",
    "    del X['id']\n",
    "    return X\n",
    "\n",
    "clf = best_clfs['RandomForestClassifier']\n",
    "X_target = pd.read_csv('/content/drive/My Drive/Colab Notebooks/uber pickups/testX.csv')\n",
    "# or whatever\n",
    "prediction = pd.DataFrame()\n",
    "prediction['id'] = [str(item) for item in X_target['id']]\n",
    "\n",
    "X_target = total_trasform(X_target)\n",
    "predict_res = clf.predict(X_target)\n",
    "prediction['pickups'] = predict_res\n",
    "prediction.to_csv('/content/drive/My Drive/Colab Notebooks/uber pickups/baseline.csv', index=None)"
   ]
  },
  {
   "cell_type": "code",
   "execution_count": 0,
   "metadata": {
    "colab": {},
    "colab_type": "code",
    "id": "sEBM8ImDl7It"
   },
   "outputs": [],
   "source": []
  }
 ],
 "metadata": {
  "accelerator": "GPU",
  "colab": {
   "collapsed_sections": [],
   "name": "Copy of Uber pickups.ipynb",
   "provenance": [
    {
     "file_id": "14ZBFrfAFxapf_2t-re0qz5BT-Wr-6IHG",
     "timestamp": 1544556202581
    }
   ],
   "version": "0.3.2"
  },
  "kernelspec": {
   "display_name": "Python 3",
   "language": "python",
   "name": "python3"
  },
  "language_info": {
   "codemirror_mode": {
    "name": "ipython",
    "version": 3
   },
   "file_extension": ".py",
   "mimetype": "text/x-python",
   "name": "python",
   "nbconvert_exporter": "python",
   "pygments_lexer": "ipython3",
   "version": "3.7.0"
  }
 },
 "nbformat": 4,
 "nbformat_minor": 1
}
